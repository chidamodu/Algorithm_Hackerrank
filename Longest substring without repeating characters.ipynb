{
 "cells": [
  {
   "cell_type": "code",
   "execution_count": 10,
   "metadata": {},
   "outputs": [],
   "source": [
    "# This is working great but have to alter the format of the solution to submit to leetcode\n",
    "def single_string(s):\n",
    "    d={}\n",
    "    current=\"\"\n",
    "    prev=[]\n",
    "    longest_str=[]\n",
    "    \n",
    "    for i in range(len(s)):\n",
    "        while i < len(s):\n",
    "            if s[i] not in current:\n",
    "                current+=s[i]\n",
    "                    \n",
    "            else:\n",
    "                prev.append(current)\n",
    "                current=\"\"\n",
    "            i+=1\n",
    " \n",
    "    return prev\n",
    "#     return max(longest_str) if longest_str else len(longest_str)\n",
    "\n"
   ]
  },
  {
   "cell_type": "code",
   "execution_count": 3,
   "metadata": {},
   "outputs": [
    {
     "data": {
      "text/plain": [
       "['abc', 'bc', 'b', 'cab', 'b', 'cab', 'b', 'abc', 'b', 'cb', 'cb', 'b']"
      ]
     },
     "execution_count": 3,
     "metadata": {},
     "output_type": "execute_result"
    }
   ],
   "source": [
    "single_string(\"abcabcbb\")"
   ]
  },
  {
   "cell_type": "code",
   "execution_count": 11,
   "metadata": {},
   "outputs": [
    {
     "data": {
      "text/plain": [
       "[]"
      ]
     },
     "execution_count": 11,
     "metadata": {},
     "output_type": "execute_result"
    }
   ],
   "source": [
    "# According to the problem the solution should return 0 for empty string and 1 for any space in the input\n",
    "single_string(\" \")"
   ]
  },
  {
   "cell_type": "code",
   "execution_count": 4,
   "metadata": {},
   "outputs": [],
   "source": [
    "# Have few flaws\n",
    "def single_string(s):\n",
    "    d={}\n",
    "    current=\"\"\n",
    "    prev=0\n",
    "    \n",
    "    longest_str=[]\n",
    "    \n",
    "    \n",
    "    if s==\"\":\n",
    "        prev=0\n",
    "    elif s.rstrip()==\"\":\n",
    "        prev=1\n",
    "    else:\n",
    "        prev=len(s)\n",
    "\n",
    "    for i in range(len(s)):\n",
    "        while i < len(s):\n",
    "            if s[i] not in current:\n",
    "                current+=s[i]\n",
    "                    \n",
    "            else:\n",
    "                if len(current)>prev:\n",
    "                    prev=len(current)\n",
    "                    current=\"\"                   \n",
    "                else:\n",
    "                    current=\"\"\n",
    "         \n",
    "            i+=1\n",
    " \n",
    "    return prev"
   ]
  },
  {
   "cell_type": "code",
   "execution_count": 5,
   "metadata": {},
   "outputs": [
    {
     "data": {
      "text/plain": [
       "8"
      ]
     },
     "execution_count": 5,
     "metadata": {},
     "output_type": "execute_result"
    }
   ],
   "source": [
    "single_string(\"abcabcbb\")"
   ]
  },
  {
   "cell_type": "code",
   "execution_count": 6,
   "metadata": {},
   "outputs": [],
   "source": [
    "# This solution here is from leetcode submissions for: Longest Substring Without Repeating Characters\n",
    "def single_string(s):\n",
    "    temp = []\n",
    "    ans = 0\n",
    "    for i in s:\n",
    "        if i in temp:\n",
    "                # if i has been repeated\n",
    "                # find last time's index, and delete temp until no repeat one\n",
    "            ind = temp.index(i)\n",
    "            del temp[0:ind+1]\n",
    "            temp.append(i)\n",
    "        else:\n",
    "                # if hasn't been repeated, add to array and update maximum length\n",
    "            temp.append(i)\n",
    "            ans = max(len(temp),ans)\n",
    "    return(ans)"
   ]
  },
  {
   "cell_type": "code",
   "execution_count": 7,
   "metadata": {},
   "outputs": [
    {
     "data": {
      "text/plain": [
       "3"
      ]
     },
     "execution_count": 7,
     "metadata": {},
     "output_type": "execute_result"
    }
   ],
   "source": [
    "single_string(\"abcabcbb\")"
   ]
  }
 ],
 "metadata": {
  "kernelspec": {
   "display_name": "Python 3",
   "language": "python",
   "name": "python3"
  },
  "language_info": {
   "codemirror_mode": {
    "name": "ipython",
    "version": 3
   },
   "file_extension": ".py",
   "mimetype": "text/x-python",
   "name": "python",
   "nbconvert_exporter": "python",
   "pygments_lexer": "ipython3",
   "version": "3.7.4"
  }
 },
 "nbformat": 4,
 "nbformat_minor": 2
}
