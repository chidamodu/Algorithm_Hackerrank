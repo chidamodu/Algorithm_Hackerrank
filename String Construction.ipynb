{
 "cells": [
  {
   "cell_type": "code",
   "execution_count": 68,
   "metadata": {},
   "outputs": [],
   "source": [
    "#string slicing here won't work for all test cases. best is the alternative solution I came in the cell below\n",
    "\n",
    "def stringConstruction(s):\n",
    "    p=\"\"\n",
    "    cost=0\n",
    "    for i in range(len(s)):\n",
    "\n",
    "        if p[:i]==s[i:]:\n",
    "            p+=(s[i:])\n",
    "            cost+=0\n",
    "            \n",
    "            if p==s:\n",
    "                break\n",
    "            else:\n",
    "                continue\n",
    "                \n",
    "        else:\n",
    "            p+=s[i]\n",
    "            cost+=1\n",
    "    return cost\n",
    "            \n",
    "            \n",
    "            \n",
    "        \n",
    "                \n",
    "            \n",
    "        \n",
    "        \n",
    "        \n",
    "       "
   ]
  },
  {
   "cell_type": "code",
   "execution_count": 69,
   "metadata": {},
   "outputs": [
    {
     "data": {
      "text/plain": [
       "4"
      ]
     },
     "execution_count": 69,
     "metadata": {},
     "output_type": "execute_result"
    }
   ],
   "source": [
    "stringConstruction(\"bccb\")"
   ]
  },
  {
   "cell_type": "code",
   "execution_count": 80,
   "metadata": {},
   "outputs": [],
   "source": [
    "Yay, my code rocks!\n",
    "def stringConstruction(s):\n",
    "    p=\"\"\n",
    "    cost=0\n",
    "    d=set()\n",
    "    for i in s:\n",
    "        if i in d:\n",
    "            p+=i\n",
    "            cost+=0\n",
    "        else:\n",
    "            d.add(i)\n",
    "            p+=i\n",
    "            cost+=1\n",
    "            \n",
    "    return cost\n",
    "            \n",
    "            \n",
    "    "
   ]
  },
  {
   "cell_type": "code",
   "execution_count": 81,
   "metadata": {},
   "outputs": [
    {
     "data": {
      "text/plain": [
       "4"
      ]
     },
     "execution_count": 81,
     "metadata": {},
     "output_type": "execute_result"
    }
   ],
   "source": [
    "stringConstruction(\"abcd\")"
   ]
  },
  {
   "cell_type": "code",
   "execution_count": null,
   "metadata": {},
   "outputs": [],
   "source": [
    "#Hackerrank submission\n",
    "\n",
    "#!/bin/python3\n",
    "\n",
    "import math\n",
    "import os\n",
    "import random\n",
    "import re\n",
    "import sys\n",
    "\n",
    "# Complete the stringConstruction function below.\n",
    "def stringConstruction(s):\n",
    "    p=\"\"\n",
    "    cost=0\n",
    "    d=set()\n",
    "    for i in s:\n",
    "        if i in d:\n",
    "            p+=i\n",
    "            cost+=0\n",
    "        else:\n",
    "            d.add(i)\n",
    "            p+=i\n",
    "            cost+=1\n",
    "            \n",
    "    return cost\n",
    "            \n",
    "\n",
    "if __name__ == '__main__':\n",
    "    fptr = open(os.environ['OUTPUT_PATH'], 'w')\n",
    "\n",
    "    q = int(input())\n",
    "\n",
    "    for q_itr in range(q):\n",
    "        s = input()\n",
    "\n",
    "        result = stringConstruction(s)\n",
    "\n",
    "        fptr.write(str(result) + '\\n')\n",
    "\n",
    "    fptr.close()"
   ]
  }
 ],
 "metadata": {
  "kernelspec": {
   "display_name": "Python 3",
   "language": "python",
   "name": "python3"
  },
  "language_info": {
   "codemirror_mode": {
    "name": "ipython",
    "version": 3
   },
   "file_extension": ".py",
   "mimetype": "text/x-python",
   "name": "python",
   "nbconvert_exporter": "python",
   "pygments_lexer": "ipython3",
   "version": "3.7.4"
  }
 },
 "nbformat": 4,
 "nbformat_minor": 2
}
