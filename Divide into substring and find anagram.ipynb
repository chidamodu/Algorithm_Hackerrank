{
 "cells": [
  {
   "cell_type": "code",
   "execution_count": 7,
   "metadata": {},
   "outputs": [
    {
     "data": {
      "text/plain": [
       "Counter({'a': 2})"
      ]
     },
     "execution_count": 7,
     "metadata": {},
     "output_type": "execute_result"
    }
   ],
   "source": [
    "from collections import Counter\n",
    "Counter('aaa')-Counter('bac')"
   ]
  },
  {
   "cell_type": "code",
   "execution_count": 134,
   "metadata": {},
   "outputs": [],
   "source": [
    "from collections import Counter\n",
    "def anagram(s):\n",
    "\n",
    "    if (len(s)%2)!=0:\n",
    "        return -1\n",
    "    \n",
    "    q=len(s)//2\n",
    "    if sorted(s[:q])==sorted(s[q:]):\n",
    "        return 0\n",
    "    \n",
    "    else: \n",
    "        v1=Counter(s[:q])-Counter(s[q:]) #the trick is to sum the values instead of counting the number of keys in a counter\n",
    "        print(v1)\n",
    "        return (v1.values())\n",
    "\n",
    "#         v2=Counter(s[:q])-Counter(s[q:])\n",
    "\n",
    "#         print(Counter(s[:q]))\n",
    "#         if (len(v1)>1) or (len(v2)>1):\n",
    "#             return max(len(v1), len(v2))\n",
    "#         elif (len(v1)==1) and (len(v2)==1):\n",
    "#             for k, v in v1.items():\n",
    "#                 return v\n",
    "              \n",
    "        "
   ]
  },
  {
   "cell_type": "code",
   "execution_count": 135,
   "metadata": {},
   "outputs": [
    {
     "name": "stdout",
     "output_type": "stream",
     "text": [
      "Counter({'q': 3, 'x': 2, 'n': 2, 'a': 2, 'g': 2, 'v': 1, 'k': 1})\n"
     ]
    },
    {
     "data": {
      "text/plain": [
       "dict_values([2, 2, 3, 1, 2, 2, 1])"
      ]
     },
     "execution_count": 135,
     "metadata": {},
     "output_type": "execute_result"
    }
   ],
   "source": [
    "anagram('xtnipeqhxvafqaggqoanvwkmthtfirwhmjrbphlmeluvoa')"
   ]
  },
  {
   "cell_type": "code",
   "execution_count": 115,
   "metadata": {},
   "outputs": [
    {
     "data": {
      "text/plain": [
       "23"
      ]
     },
     "execution_count": 115,
     "metadata": {},
     "output_type": "execute_result"
    }
   ],
   "source": [
    "46//2"
   ]
  },
  {
   "cell_type": "code",
   "execution_count": 72,
   "metadata": {},
   "outputs": [
    {
     "name": "stdout",
     "output_type": "stream",
     "text": [
      "3\n",
      "aaabbb\n",
      "1\n",
      "ab\n",
      "1\n",
      "mnop\n",
      "2\n"
     ]
    }
   ],
   "source": [
    "from collections import Counter\n",
    "def anagram(s):\n",
    "    if (len(s)%2)!=0:\n",
    "        return -1\n",
    "    \n",
    "    q=len(s)//2\n",
    "    if s[:q]==s[q:]:\n",
    "        return 0\n",
    "    else:\n",
    "        return max(len(Counter(s[q:])-Counter(s[:q])), len(Counter(s[:q])-Counter(s[q:])))\n",
    "              \n",
    "if __name__ == '__main__':\n",
    "    \n",
    "    q = int(input())\n",
    "\n",
    "    for q_itr in range(q):\n",
    "        s = input()\n",
    "        print(anagram(s))"
   ]
  }
 ],
 "metadata": {
  "kernelspec": {
   "display_name": "Python 3",
   "language": "python",
   "name": "python3"
  },
  "language_info": {
   "codemirror_mode": {
    "name": "ipython",
    "version": 3
   },
   "file_extension": ".py",
   "mimetype": "text/x-python",
   "name": "python",
   "nbconvert_exporter": "python",
   "pygments_lexer": "ipython3",
   "version": "3.7.4"
  }
 },
 "nbformat": 4,
 "nbformat_minor": 2
}
