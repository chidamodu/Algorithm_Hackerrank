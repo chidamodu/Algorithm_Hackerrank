{
 "cells": [
  {
   "cell_type": "code",
   "execution_count": 7,
   "metadata": {},
   "outputs": [],
   "source": [
    "def gameOfThrones(s):\n",
    "    d={}\n",
    "    odd_count=0\n",
    "    for i in s:\n",
    "        d[i]=d.get(i, 0)+1\n",
    "    \n",
    "    for k, v in d.items():\n",
    "        if (v%2)!=0:\n",
    "            odd_count+=1\n",
    "        else:\n",
    "            odd_count+=0\n",
    "            \n",
    "    if (odd_count==1) or (odd_count==0):\n",
    "        return \"YES\"\n",
    "    else:\n",
    "        return \"No\"\n",
    "            \n",
    "        "
   ]
  },
  {
   "cell_type": "code",
   "execution_count": 8,
   "metadata": {},
   "outputs": [
    {
     "data": {
      "text/plain": [
       "'YES'"
      ]
     },
     "execution_count": 8,
     "metadata": {},
     "output_type": "execute_result"
    }
   ],
   "source": [
    "gameOfThrones(\"aaabbbb\")"
   ]
  },
  {
   "cell_type": "code",
   "execution_count": null,
   "metadata": {},
   "outputs": [],
   "source": [
    "Yay, I rock!\n",
    "\n",
    "import math\n",
    "import os\n",
    "import random\n",
    "import re\n",
    "import sys\n",
    "\n",
    "# Complete the gameOfThrones function below.\n",
    "def gameOfThrones(s):\n",
    "    d={}\n",
    "    odd_count=0\n",
    "    for i in s:\n",
    "        d[i]=d.get(i, 0)+1\n",
    "    \n",
    "    for k, v in d.items():\n",
    "        if (v%2)!=0:\n",
    "            odd_count+=1\n",
    "        else:\n",
    "            odd_count+=0\n",
    "            \n",
    "    if (odd_count==1) or (odd_count==0):\n",
    "        return \"YES\"\n",
    "    else:\n",
    "        return \"NO\"\n",
    "            \n",
    "\n",
    "if __name__ == '__main__':\n",
    "    fptr = open(os.environ['OUTPUT_PATH'], 'w')\n",
    "\n",
    "    s = input()\n",
    "\n",
    "    result = gameOfThrones(s)\n",
    "\n",
    "    fptr.write(result + '\\n')\n",
    "\n",
    "    fptr.close()\n"
   ]
  }
 ],
 "metadata": {
  "kernelspec": {
   "display_name": "Python 3",
   "language": "python",
   "name": "python3"
  },
  "language_info": {
   "codemirror_mode": {
    "name": "ipython",
    "version": 3
   },
   "file_extension": ".py",
   "mimetype": "text/x-python",
   "name": "python",
   "nbconvert_exporter": "python",
   "pygments_lexer": "ipython3",
   "version": "3.7.4"
  }
 },
 "nbformat": 4,
 "nbformat_minor": 2
}
