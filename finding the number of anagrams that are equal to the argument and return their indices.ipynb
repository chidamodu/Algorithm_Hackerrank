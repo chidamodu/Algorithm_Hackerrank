{
 "cells": [
  {
   "cell_type": "code",
   "execution_count": 70,
   "metadata": {},
   "outputs": [],
   "source": [
    "#To find anagrams and return their indices\n",
    "def findAnagrams(s, p):\n",
    "    p = \"\".join(sorted(p))\n",
    "    myset = set(p)\n",
    "    cur = \"\"\n",
    "    prev = \"\"\n",
    "    res = []\n",
    "    ind=[]\n",
    "    \n",
    "    for i in range(len(s)):\n",
    "        \n",
    "        if s[i] in myset:\n",
    "            cur=\"\"\n",
    "            prev=\"\"  \n",
    "            ind.append(i)\n",
    "            continue\n",
    "#             print(ind)\n",
    "\n",
    "        cur+=s[i]\n",
    "        if len(cur)<len(p):\n",
    "            continue\n",
    "            \n",
    "            \n",
    "        if sorted(cur)==p:\n",
    "            res.append(ind.pop(ind[0]))\n",
    "            print(res)\n",
    "            prev=cur[0]\n",
    "            cur=cur[1:]\n",
    "    \n",
    "        else:   \n",
    "            prev=cur[0]\n",
    "            cur=cur[1:]\n",
    "            \n",
    "            \n",
    "            \n",
    "       \n",
    "        \n",
    "            \n",
    "            \n",
    "            \n",
    "    return res\n",
    "            \n",
    "            \n",
    "            "
   ]
  },
  {
   "cell_type": "code",
   "execution_count": 71,
   "metadata": {},
   "outputs": [
    {
     "data": {
      "text/plain": [
       "[]"
      ]
     },
     "execution_count": 71,
     "metadata": {},
     "output_type": "execute_result"
    }
   ],
   "source": [
    "findAnagrams(\"abab\", \"ab\")"
   ]
  },
  {
   "cell_type": "code",
   "execution_count": 132,
   "metadata": {},
   "outputs": [],
   "source": [
    "def findAnagrams(s, p):\n",
    "    p = \"\".join(sorted(p))\n",
    "    myset = set(p)\n",
    "    cur = \"\"\n",
    "    prev = \"\"\n",
    "    res = []\n",
    "\n",
    "    \n",
    "    for i in range(len(s)):  \n",
    "        if not s[i] in myset:\n",
    "            cur=\"\"\n",
    "            prev=\"\"  \n",
    "            continue\n",
    "#             print(ind)\n",
    "\n",
    "        cur+=s[i]\n",
    "        if len(cur)<len(p):\n",
    "            continue\n",
    "            \n",
    "            \n",
    "        if s[i]==prev:\n",
    "            res.append(i-len(p)+1)\n",
    "            prev=cur[0]\n",
    "#             print(prev)\n",
    "#             print(cur)\n",
    "            cur=cur[1:]\n",
    "            continue\n",
    "#             print(cur)\n",
    "            \n",
    "        \n",
    "        if \"\".join(sorted(cur))==p:\n",
    "            res.append(i-len(p)+1)\n",
    "            prev=cur[0]\n",
    "            \n",
    "            \n",
    "            \n",
    "        else:\n",
    "            prev=\"\"\n",
    "            \n",
    "    \n",
    "        cur=cur[1:]\n",
    "    return res\n",
    "        \n",
    "            "
   ]
  },
  {
   "cell_type": "code",
   "execution_count": 133,
   "metadata": {},
   "outputs": [
    {
     "data": {
      "text/plain": [
       "[0, 1]"
      ]
     },
     "execution_count": 133,
     "metadata": {},
     "output_type": "execute_result"
    }
   ],
   "source": [
    "findAnagrams(\"abaa\", \"ab\")"
   ]
  },
  {
   "cell_type": "code",
   "execution_count": 92,
   "metadata": {},
   "outputs": [
    {
     "data": {
      "text/plain": [
       "[8, 9]"
      ]
     },
     "execution_count": 92,
     "metadata": {},
     "output_type": "execute_result"
    }
   ],
   "source": [
    "c=[7,8,9]\n",
    "c=c[1:]\n",
    "c"
   ]
  }
 ],
 "metadata": {
  "kernelspec": {
   "display_name": "Python 3",
   "language": "python",
   "name": "python3"
  },
  "language_info": {
   "codemirror_mode": {
    "name": "ipython",
    "version": 3
   },
   "file_extension": ".py",
   "mimetype": "text/x-python",
   "name": "python",
   "nbconvert_exporter": "python",
   "pygments_lexer": "ipython3",
   "version": "3.7.4"
  }
 },
 "nbformat": 4,
 "nbformat_minor": 2
}
