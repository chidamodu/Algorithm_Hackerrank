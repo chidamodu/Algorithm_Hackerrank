{
 "cells": [
  {
   "cell_type": "code",
   "execution_count": null,
   "metadata": {},
   "outputs": [],
   "source": [
    "# 9.14\n",
    "\n",
    "def sherlockAndAnagrams(s):\n",
    "    for i in s:\n",
    "        res=[k, v for ]\n",
    "    \n",
    "\n",
    "if __name__ == '__main__':\n",
    "    \n",
    "\n",
    "    q = int(input())\n",
    "\n",
    "    for q_itr in range(q):\n",
    "        s = input()\n",
    "\n",
    "        result = sherlockAndAnagrams(s)\n",
    "\n",
    "       "
   ]
  },
  {
   "cell_type": "code",
   "execution_count": 98,
   "metadata": {},
   "outputs": [],
   "source": [
    "s=\"abcd\""
   ]
  },
  {
   "cell_type": "code",
   "execution_count": 99,
   "metadata": {},
   "outputs": [
    {
     "data": {
      "text/plain": [
       "[['a'], ['b'], ['c'], ['d']]"
      ]
     },
     "execution_count": 99,
     "metadata": {},
     "output_type": "execute_result"
    }
   ],
   "source": [
    "\n",
    "from itertools import groupby\n",
    "res=[list(group) for key,group in groupby(sorted(s, key=sorted),sorted)]\n",
    "res"
   ]
  },
  {
   "cell_type": "code",
   "execution_count": 115,
   "metadata": {},
   "outputs": [
    {
     "name": "stdout",
     "output_type": "stream",
     "text": [
      "abba\n",
      "[['ab', 'ba'], ['abb', 'bba']]\n"
     ]
    }
   ],
   "source": [
    "from collections import defaultdict\n",
    "import itertools\n",
    "\n",
    "\n",
    "def anagram_substring(s):\n",
    "    substr_list = set([])\n",
    "    anagrams = defaultdict(list)\n",
    "\n",
    "    for i in range(len(s)):\n",
    "        for j in range(i + 1, len(s)+ 1):\n",
    "            substr_list.add(s[i:j])\n",
    "#     print(substr_list)\n",
    "\n",
    "    for substr in substr_list:\n",
    "        anagrams[''.join(sorted(substr))].append(substr)\n",
    "#     print(anagrams)\n",
    "\n",
    "    return [values for key, values in anagrams.items() if len(values) > 1]\n",
    "\n",
    "s = input().strip()\n",
    "print(anagram_substring(s))"
   ]
  },
  {
   "cell_type": "code",
   "execution_count": null,
   "metadata": {},
   "outputs": [],
   "source": []
  },
  {
   "cell_type": "code",
   "execution_count": null,
   "metadata": {},
   "outputs": [],
   "source": []
  },
  {
   "cell_type": "code",
   "execution_count": null,
   "metadata": {},
   "outputs": [],
   "source": [
    "len(['kk'])"
   ]
  },
  {
   "cell_type": "code",
   "execution_count": 44,
   "metadata": {},
   "outputs": [],
   "source": [
    "substr_list = {'', 'a', 'ab', 'ba', 'bb', 'abba', 'abb', 'bba'}\n"
   ]
  },
  {
   "cell_type": "code",
   "execution_count": 46,
   "metadata": {},
   "outputs": [
    {
     "name": "stdout",
     "output_type": "stream",
     "text": [
      "['']\n",
      "['a']\n",
      "['ab']\n",
      "['ab']\n",
      "['bb']\n",
      "['aabb']\n",
      "['abb']\n",
      "['abb']\n"
     ]
    }
   ],
   "source": [
    "for substr in substr_list:\n",
    "    print([''.join(sorted(substr))])"
   ]
  },
  {
   "cell_type": "code",
   "execution_count": 131,
   "metadata": {},
   "outputs": [],
   "source": [
    "from collections import Counter\n",
    "def sherlockAndAnagrams(s):\n",
    "    c = 0\n",
    "    for i in range(1,len(s)+1):\n",
    "        a = [\"\".join(sorted(s[j:j+i])) for j in range(len(s)-i+1)]\n",
    "        \n",
    "        b = Counter(a)\n",
    "        print(b)\n",
    "\n",
    "        for j in b:\n",
    "            \n",
    "            c+=b[j]*(b[j]-1)/2\n",
    "            \n",
    "\n",
    "    return int(c)"
   ]
  },
  {
   "cell_type": "code",
   "execution_count": 132,
   "metadata": {},
   "outputs": [
    {
     "name": "stdout",
     "output_type": "stream",
     "text": [
      "Counter({'i': 2, 'q': 2, 'f': 1, 'a': 1, 'l': 1, 'u': 1, 'h': 1, 'k': 1})\n",
      "Counter({'fi': 1, 'af': 1, 'ai': 1, 'il': 1, 'lu': 1, 'hu': 1, 'hk': 1, 'kq': 1, 'qq': 1})\n",
      "Counter({'afi': 2, 'ail': 1, 'ilu': 1, 'hlu': 1, 'hku': 1, 'hkq': 1, 'kqq': 1})\n",
      "Counter({'afii': 1, 'afil': 1, 'ailu': 1, 'hilu': 1, 'hklu': 1, 'hkqu': 1, 'hkqq': 1})\n",
      "Counter({'afiil': 1, 'afilu': 1, 'ahilu': 1, 'hiklu': 1, 'hklqu': 1, 'hkqqu': 1})\n",
      "Counter({'afiilu': 1, 'afhilu': 1, 'ahiklu': 1, 'hiklqu': 1, 'hklqqu': 1})\n",
      "Counter({'afhiilu': 1, 'afhiklu': 1, 'ahiklqu': 1, 'hiklqqu': 1})\n",
      "Counter({'afhiiklu': 1, 'afhiklqu': 1, 'ahiklqqu': 1})\n",
      "Counter({'afhiiklqu': 1, 'afhiklqqu': 1})\n",
      "Counter({'afhiiklqqu': 1})\n"
     ]
    },
    {
     "data": {
      "text/plain": [
       "3"
      ]
     },
     "execution_count": 132,
     "metadata": {},
     "output_type": "execute_result"
    }
   ],
   "source": [
    "sherlockAndAnagrams(\"ifailuhkqq\")"
   ]
  },
  {
   "cell_type": "code",
   "execution_count": null,
   "metadata": {},
   "outputs": [],
   "source": [
    "Counter({'i': 2, 'q': 2, 'f': 1, 'a': 1, 'l': 1, 'u': 1, 'h': 1, 'k': 1})\n",
    "Counter({'if': 1, 'fa': 1, 'ai': 1, 'il': 1, 'lu': 1, 'uh': 1, 'hk': 1, 'kq': 1, 'qq': 1})\n",
    "Counter({'ifa': 1, 'fai': 1, 'ail': 1, 'ilu': 1, 'luh': 1, 'uhk': 1, 'hkq': 1, 'kqq': 1})\n",
    "Counter({'ifai': 1, 'fail': 1, 'ailu': 1, 'iluh': 1, 'luhk': 1, 'uhkq': 1, 'hkqq': 1})\n",
    "Counter({'ifail': 1, 'failu': 1, 'ailuh': 1, 'iluhk': 1, 'luhkq': 1, 'uhkqq': 1})\n",
    "Counter({'ifailu': 1, 'failuh': 1, 'ailuhk': 1, 'iluhkq': 1, 'luhkqq': 1})\n",
    "Counter({'ifailuh': 1, 'failuhk': 1, 'ailuhkq': 1, 'iluhkqq': 1})\n",
    "Counter({'ifailuhk': 1, 'failuhkq': 1, 'ailuhkqq': 1})\n",
    "Counter({'ifailuhkq': 1, 'failuhkqq': 1})\n",
    "Counter({'ifailuhkqq': 1})"
   ]
  },
  {
   "cell_type": "code",
   "execution_count": null,
   "metadata": {},
   "outputs": [],
   "source": [
    "'afi': 2, 'ail': 1, 'ilu': 1, 'hlu': 1, 'hku': 1, 'hkq': 1, 'kqq': 1})\n",
    "                            \n",
    "Counter({'ifa': 1, 'fai': 1, 'ail': 1, 'ilu': 1, 'luh': 1, 'uhk': 1, 'hkq': 1, 'kqq': 1})                            "
   ]
  },
  {
   "cell_type": "code",
   "execution_count": null,
   "metadata": {},
   "outputs": [],
   "source": [
    "Hackerrank submission\n",
    "import math\n",
    "import os\n",
    "import random\n",
    "import re\n",
    "import sys\n",
    "from collections import defaultdict\n",
    "from itertools import groupby\n",
    "from collections import Counter\n",
    "\n",
    "# Complete the sherlockAndAnagrams function below.\n",
    "def sherlockAndAnagrams(s):\n",
    "    c = 0\n",
    "    for i in range(1,len(s)+1):\n",
    "        a = [\"\".join(sorted(s[j:j+i])) for j in range(len(s)-i+1)]\n",
    "        \n",
    "        b = Counter(a)\n",
    "        \n",
    "\n",
    "        for j in b:\n",
    "            c+=b[j]*(b[j]-1)/2\n",
    "    return int(c)\n",
    "\n",
    "if __name__ == '__main__':\n",
    "    fptr = open(os.environ['OUTPUT_PATH'], 'w')\n",
    "\n",
    "    q = int(input())\n",
    "\n",
    "    for q_itr in range(q):\n",
    "        s = input()\n",
    "\n",
    "        result = sherlockAndAnagrams(s)\n",
    "\n",
    "        fptr.write(str(result) + '\\n')\n",
    "\n",
    "    fptr.close()\n"
   ]
  }
 ],
 "metadata": {
  "kernelspec": {
   "display_name": "Python 3",
   "language": "python",
   "name": "python3"
  },
  "language_info": {
   "codemirror_mode": {
    "name": "ipython",
    "version": 3
   },
   "file_extension": ".py",
   "mimetype": "text/x-python",
   "name": "python",
   "nbconvert_exporter": "python",
   "pygments_lexer": "ipython3",
   "version": "3.7.4"
  }
 },
 "nbformat": 4,
 "nbformat_minor": 2
}
