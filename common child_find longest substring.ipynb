{
 "cells": [
  {
   "cell_type": "code",
   "execution_count": null,
   "metadata": {},
   "outputs": [],
   "source": [
    "# 3.37\n",
    "pseudo:\n",
    "1. create a default dictionaries for both with their letters as keys and their indices as values\n",
    "2. if there are not any common keys then return 0\n",
    "3. else: compare the indices to decide on the sequence of letters that can be formed\n",
    "4. return the len of the longest sequence that can be formed\n",
    "5. what is important is that to maintain the order of the sequence"
   ]
  },
  {
   "cell_type": "code",
   "execution_count": 147,
   "metadata": {},
   "outputs": [],
   "source": [
    "from collections import defaultdict\n",
    "from operator import itemgetter\n",
    "\n",
    "def common_child(s1, s2):\n",
    "    d1=defaultdict(list)\n",
    "    d2=defaultdict(list)\n",
    "    res_d1=[]\n",
    "    res_d2=[]\n",
    "    ans=set()\n",
    "    c=0\n",
    "\n",
    "    for num, val in enumerate(s1):\n",
    "        d1[val].append(num)\n",
    "        \n",
    "    for num, val in enumerate(s2):\n",
    "        d2[val].append(num)\n",
    "        \n",
    "    for k, v in d1.items():\n",
    "        if k in d2.keys():\n",
    "            res_d2.append((k, d2[k]))\n",
    "            res_d1.append((k, v))\n",
    "    \n",
    "    getcount = itemgetter(1)\n",
    "#     print(sorted(res_d1, key=getcount))\n",
    "    \n",
    "#     print(list(map(getcount, res_d2)))\n",
    "#     print(sorted(res_d2, key=getcount))\n",
    "    \n",
    "\n",
    "    for x, y in zip(sorted(res_d1, key=getcount), sorted(res_d2, key=getcount)):\n",
    "        ans.add((x[0], y[0]))\n",
    "        \n",
    "    for i, j in ans:\n",
    "        if i==j:\n",
    "            c+=1\n",
    "            \n",
    "    return c\n",
    "            \n",
    "            \n",
    "            \n",
    "            \n",
    "    \n",
    "        \n",
    "        "
   ]
  },
  {
   "cell_type": "code",
   "execution_count": 148,
   "metadata": {},
   "outputs": [
    {
     "data": {
      "text/plain": [
       "2"
      ]
     },
     "execution_count": 148,
     "metadata": {},
     "output_type": "execute_result"
    }
   ],
   "source": [
    "common_child(\"HARRY\", \"SALLY\")"
   ]
  },
  {
   "cell_type": "code",
   "execution_count": null,
   "metadata": {},
   "outputs": [],
   "source": [
    ">>> sorted(inventory, key=getcount)\n",
    "[('orange', 1), ('banana', 2), ('apple', 3), ('pear', 5)]\n",
    "    getcount = itemgetter(1)\n",
    "            "
   ]
  },
  {
   "cell_type": "code",
   "execution_count": 153,
   "metadata": {},
   "outputs": [],
   "source": [
    "from collections import defaultdict\n",
    "from operator import itemgetter\n",
    "\n",
    "def common_child(s1, s2):\n",
    "    d1=defaultdict(list)\n",
    "    d2=defaultdict(list)\n",
    "    res_d1=[]\n",
    "    res_d2=[]\n",
    "    ans=set()\n",
    "    c=0\n",
    "\n",
    "    for num, val in enumerate(s1):\n",
    "        d1[val].append(num)\n",
    "        \n",
    "    for num, val in enumerate(s2):\n",
    "        d2[val].append(num)\n",
    "        \n",
    "    for k, v in d1.items():\n",
    "        if k in d2.keys():\n",
    "            res_d2.append((k, d2[k]))\n",
    "            res_d1.append((k, v))\n",
    "        \n",
    "        \n",
    "    print(res_d1, res_d2)\n",
    "        \n",
    "#     for k, v in d1.items():\n",
    "#         if k in d2.keys():\n",
    "#             res_d2.append((k, d2[k]))\n",
    "#             res_d1.append((k, v))\n",
    "    "
   ]
  },
  {
   "cell_type": "code",
   "execution_count": 154,
   "metadata": {},
   "outputs": [
    {
     "name": "stdout",
     "output_type": "stream",
     "text": [
      "[('H', [1, 5]), ('N', [3, 7]), ('A', [6])] [('H', [2]), ('N', [0]), ('A', [3, 5, 6, 7])]\n"
     ]
    }
   ],
   "source": [
    "common_child(\"SHINCHAN\", \"NOHARAAA\")"
   ]
  },
  {
   "cell_type": "code",
   "execution_count": 157,
   "metadata": {},
   "outputs": [],
   "source": [
    "def commonChild(s1, s2):\n",
    "    prev_lcs = [0] * (len(s2) + 1)\n",
    "    print(prev_lcs)\n",
    "    curr_lcs = [0] * (len(s2) + 1)\n",
    "    print(curr_lcs)\n",
    "    for c1 in s1:\n",
    "        curr_lcs, prev_lcs = prev_lcs, curr_lcs\n",
    "        for j, c2 in enumerate(s2, 1):\n",
    "            curr_lcs[j] = (\n",
    "                1 + prev_lcs[j - 1] if c1 == c2 else\n",
    "                max(prev_lcs[j], curr_lcs[j - 1])\n",
    "            )\n",
    "    return curr_lcs[-1]\n",
    "            "
   ]
  },
  {
   "cell_type": "code",
   "execution_count": 158,
   "metadata": {},
   "outputs": [
    {
     "name": "stdout",
     "output_type": "stream",
     "text": [
      "[0, 0, 0, 0, 0, 0, 0, 0, 0]\n",
      "[0, 0, 0, 0, 0, 0, 0, 0, 0]\n"
     ]
    },
    {
     "data": {
      "text/plain": [
       "3"
      ]
     },
     "execution_count": 158,
     "metadata": {},
     "output_type": "execute_result"
    }
   ],
   "source": [
    "commonChild(\"SHINCHAN\", \"NOHARAAA\")"
   ]
  }
 ],
 "metadata": {
  "kernelspec": {
   "display_name": "Python 3",
   "language": "python",
   "name": "python3"
  },
  "language_info": {
   "codemirror_mode": {
    "name": "ipython",
    "version": 3
   },
   "file_extension": ".py",
   "mimetype": "text/x-python",
   "name": "python",
   "nbconvert_exporter": "python",
   "pygments_lexer": "ipython3",
   "version": "3.7.4"
  }
 },
 "nbformat": 4,
 "nbformat_minor": 2
}
