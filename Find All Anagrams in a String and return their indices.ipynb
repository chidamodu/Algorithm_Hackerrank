{
 "cells": [
  {
   "cell_type": "code",
   "execution_count": 1,
   "metadata": {},
   "outputs": [],
   "source": [
    "from collections import defaultdict\n",
    "import itertools\n",
    "\n",
    "\n",
    "def anagram_substring(s, p):\n",
    "    result=[]\n",
    "    substr_list = []\n",
    "    anagrams = defaultdict(list)\n",
    "    result=defaultdict(list)\n",
    "\n",
    "    for i in range(len(s)):\n",
    "        for j in range(i + 1, len(s)+ 1):\n",
    "            substr_list.append(s[i:j])\n",
    "#     print(substr_list)\n",
    "\n",
    "    for substr in substr_list:\n",
    "        anagrams[''.join(sorted(substr))].append(substr)\n",
    "#     print(anagrams)\n",
    "\n",
    "#     res=[values for key, values in anagrams.items() if p == key]\n",
    "    for key, values in anagrams.items():\n",
    "        if p==key:\n",
    "            ans=values\n",
    "\n",
    "\n",
    "    \n",
    "    return ans\n",
    "\n",
    "\n"
   ]
  },
  {
   "cell_type": "code",
   "execution_count": 2,
   "metadata": {},
   "outputs": [
    {
     "data": {
      "text/plain": [
       "['cba', 'bac']"
      ]
     },
     "execution_count": 2,
     "metadata": {},
     "output_type": "execute_result"
    }
   ],
   "source": [
    "anagram_substring(\"cbaebabacd\", \"abc\")"
   ]
  },
  {
   "cell_type": "code",
   "execution_count": 3,
   "metadata": {},
   "outputs": [
    {
     "data": {
      "text/plain": [
       "defaultdict(list,\n",
       "            {'c': [0, 8], 'b': [1, 4, 6], 'a': [2, 5, 7], 'e': [3], 'd': [9]})"
      ]
     },
     "execution_count": 3,
     "metadata": {},
     "output_type": "execute_result"
    }
   ],
   "source": [
    "fg=['cbaebabacd']\n",
    "from collections import defaultdict\n",
    "D = defaultdict(list)\n",
    "for i,item in enumerate(list('cbaebabacd')):\n",
    "    D[item].append(i)\n",
    "D"
   ]
  },
  {
   "cell_type": "code",
   "execution_count": 28,
   "metadata": {},
   "outputs": [],
   "source": [
    "from collections import defaultdict\n",
    "import collections\n",
    "def findAnagrams(s, p):\n",
    "        res = []\n",
    "        c = collections.Counter(p)\n",
    "        print(c)\n",
    "        cur = collections.Counter(s[:len(p)])\n",
    "        print(cur)\n",
    "        for i in range(len(s)-len(p)+1):\n",
    "            print(i)\n",
    "            if cur==c:\n",
    "                res.append(i)\n",
    "                print(res)\n",
    "            if i == len(s)-len(p):\n",
    "                break\n",
    "            cur[s[i]]-=1\n",
    "            print(cur)\n",
    "            if cur[s[i]]==0:\n",
    "                del cur[s[i]]\n",
    "            cur[s[i+len(p)]]+=1\n",
    "        return res"
   ]
  },
  {
   "cell_type": "code",
   "execution_count": 29,
   "metadata": {},
   "outputs": [
    {
     "name": "stdout",
     "output_type": "stream",
     "text": [
      "Counter({'a': 1, 'b': 1})\n",
      "Counter({'a': 1, 'b': 1})\n",
      "0\n",
      "[0]\n",
      "Counter({'b': 1, 'a': 0})\n",
      "1\n",
      "[0, 1]\n",
      "Counter({'a': 1, 'b': 0})\n",
      "2\n",
      "[0, 1, 2]\n"
     ]
    },
    {
     "data": {
      "text/plain": [
       "[0, 1, 2]"
      ]
     },
     "execution_count": 29,
     "metadata": {},
     "output_type": "execute_result"
    }
   ],
   "source": [
    "findAnagrams(\"abab\", \"ab\")"
   ]
  },
  {
   "cell_type": "code",
   "execution_count": 17,
   "metadata": {},
   "outputs": [
    {
     "data": {
      "text/plain": [
       "True"
      ]
     },
     "execution_count": 17,
     "metadata": {},
     "output_type": "execute_result"
    }
   ],
   "source": [
    "({'a': 1, 'b': 1, 'c': 1})==({'c': 1, 'b': 1, 'a': 1})"
   ]
  },
  {
   "cell_type": "code",
   "execution_count": 27,
   "metadata": {},
   "outputs": [
    {
     "data": {
      "text/plain": [
       "Counter({'a': 1, 'b': 1, 'c': 1})"
      ]
     },
     "execution_count": 27,
     "metadata": {},
     "output_type": "execute_result"
    }
   ],
   "source": [
    "c = collections.Counter(\"abc\")\n",
    "c"
   ]
  },
  {
   "cell_type": "code",
   "execution_count": 39,
   "metadata": {},
   "outputs": [
    {
     "data": {
      "text/plain": [
       "2"
      ]
     },
     "execution_count": 39,
     "metadata": {},
     "output_type": "execute_result"
    }
   ],
   "source": [
    "p = \"\".join(sorted(\"ab\"))\n",
    "len(p)"
   ]
  },
  {
   "cell_type": "code",
   "execution_count": 38,
   "metadata": {},
   "outputs": [
    {
     "data": {
      "text/plain": [
       "{'a', 'b', 'h', 'k'}"
      ]
     },
     "execution_count": 38,
     "metadata": {},
     "output_type": "execute_result"
    }
   ],
   "source": [
    "set(\"hbak\")"
   ]
  },
  {
   "cell_type": "code",
   "execution_count": 40,
   "metadata": {},
   "outputs": [
    {
     "data": {
      "text/plain": [
       "'a'"
      ]
     },
     "execution_count": 40,
     "metadata": {},
     "output_type": "execute_result"
    }
   ],
   "source": [
    "cur=\"\"\n",
    "cur+=\"a\"\n",
    "cur"
   ]
  },
  {
   "cell_type": "code",
   "execution_count": 41,
   "metadata": {},
   "outputs": [],
   "source": [
    "cur+='B'"
   ]
  },
  {
   "cell_type": "code",
   "execution_count": 43,
   "metadata": {},
   "outputs": [
    {
     "data": {
      "text/plain": [
       "2"
      ]
     },
     "execution_count": 43,
     "metadata": {},
     "output_type": "execute_result"
    }
   ],
   "source": [
    "len(cur)"
   ]
  },
  {
   "cell_type": "code",
   "execution_count": 70,
   "metadata": {},
   "outputs": [],
   "source": [
    "This is an awesome solution\n",
    "def findAnagrams(s, p):\n",
    "\t\tp = \"\".join(sorted(p))\n",
    "\t\tmyset = set(p)\n",
    "\t\tcur = \"\"\n",
    "\t\tprev = \"\"\n",
    "\t\tres = []\n",
    "\t\t\n",
    "\t\tfor i in range(len(s)):\n",
    "\t\t\t# if this character does not occur in p, reset the sliding window\n",
    "\t\t\tif not s[i] in myset:\n",
    "\t\t\t\tcur = \"\"\n",
    "\t\t\t\tprev = \"\"\n",
    "\t\t\t\tcontinue\n",
    "# \t\t\t\tprint(cur)\n",
    "\n",
    "\t\t\t# keep building the sliding window until its length equals that of p\n",
    "\t\t\tcur += s[i]\n",
    "\t\t\tif len(cur) < len(p):\n",
    "\t\t\t\tcontinue\n",
    "# \t\t\t\tprint(cur)\n",
    "\n",
    "\t\t\t#if s[i] is same as the previous character that we discarded, we don't need to compare since \n",
    "\t\t\t#prev keeps track if previous window was a valid anagram, otherwise it will be an empty string in all other cases\n",
    "\t\t\tif s[i] == prev:\n",
    "\t\t\t\tres.append(i - len(p)+1)\n",
    "\t\t\t\tprev = cur[0]\n",
    "\t\t\t\tcur = cur[1:]\n",
    "\t\t\t\tcontinue\n",
    "# \t\t\t\tprint(cur)               \n",
    "# \t\t\t\tprint(prev)\n",
    "                \n",
    "                \n",
    "\t\t\t# validate the current window and update prev accordingly. \n",
    "\t\t\tif \"\".join(sorted(cur)) == p:\n",
    "\t\t\t\tres.append(i - len(p)+1)\n",
    "\t\t\t\tprev = cur[0]\n",
    "# \t\t\t\tprint(prev)\n",
    "# \t\t\t\tprint(cur)                \n",
    "\t\t\telse:\n",
    "\t\t\t\tprev = \"\"\n",
    "# \t\t\t\tprint(prev)\n",
    "# \t\t\t\tprint(cur)\n",
    "                \n",
    "\t\t\t# move the head of the sliding window one unit to the right\n",
    "\t\t\tcur = cur[1:]\n",
    "# \t\t\tprint(cur)            \n",
    "\t\tprint(cur)\n",
    "\t\treturn res      "
   ]
  },
  {
   "cell_type": "code",
   "execution_count": 71,
   "metadata": {},
   "outputs": [
    {
     "name": "stdout",
     "output_type": "stream",
     "text": [
      "b\n"
     ]
    },
    {
     "data": {
      "text/plain": [
       "[0, 1, 2]"
      ]
     },
     "execution_count": 71,
     "metadata": {},
     "output_type": "execute_result"
    }
   ],
   "source": [
    "findAnagrams(\"abab\", \"ab\")"
   ]
  },
  {
   "cell_type": "code",
   "execution_count": null,
   "metadata": {},
   "outputs": [],
   "source": []
  }
 ],
 "metadata": {
  "kernelspec": {
   "display_name": "Python 3",
   "language": "python",
   "name": "python3"
  },
  "language_info": {
   "codemirror_mode": {
    "name": "ipython",
    "version": 3
   },
   "file_extension": ".py",
   "mimetype": "text/x-python",
   "name": "python",
   "nbconvert_exporter": "python",
   "pygments_lexer": "ipython3",
   "version": "3.7.4"
  }
 },
 "nbformat": 4,
 "nbformat_minor": 2
}
