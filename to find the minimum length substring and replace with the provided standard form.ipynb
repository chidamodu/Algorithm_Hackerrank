{
 "cells": [
  {
   "cell_type": "code",
   "execution_count": 32,
   "metadata": {},
   "outputs": [],
   "source": [
    "# 10.42\n",
    "This is to select substrings from a string given the length of the substring \n",
    "def select_substring(s, n):\n",
    "    length=len(s)\n",
    "    start=0\n",
    "    end=len(s)-1\n",
    "    result=[]\n",
    "    for i in range(len(s)):\n",
    "        if len(s[i:])>=n:\n",
    "            result.append(s[i:][:n])\n",
    "        \n",
    "    return result\n"
   ]
  },
  {
   "cell_type": "code",
   "execution_count": 33,
   "metadata": {},
   "outputs": [
    {
     "data": {
      "text/plain": [
       "['GAAAT', 'AAATA', 'AATAA', 'ATAAA']"
      ]
     },
     "execution_count": 33,
     "metadata": {},
     "output_type": "execute_result"
    }
   ],
   "source": [
    "select_substring('GAAATAAA', 5)"
   ]
  },
  {
   "cell_type": "code",
   "execution_count": 57,
   "metadata": {},
   "outputs": [],
   "source": [
    "# from itertools import defaultdict\n",
    "def gene(s):\n",
    "    length=len(s)\n",
    "    res={}\n",
    "    result=[]\n",
    "    constraint=int(len(s)/4)\n",
    "    \n",
    "\n",
    "    for i in range(len(s)):\n",
    "        res[s[i]]=res.get(s[i], 0)+1\n",
    "    \n",
    "    for k, v in res.items():\n",
    "        if v > constraint:\n",
    "            min_diff=abs(constraint-v)\n",
    "    \n",
    "    for i in range(len(s)):\n",
    "        if len(s[i:])>=min_diff:\n",
    "            result.append(s[i:][:min_diff])\n",
    "    \n",
    "    \n",
    "            \n",
    "            \n",
    "        \n",
    "            \n",
    "    return result\n",
    "    \n",
    "    \n",
    "#         for j in range(i+1, len(s)):\n",
    "#             res[s[i:j]]\n",
    "        \n",
    "    \n",
    "    "
   ]
  },
  {
   "cell_type": "code",
   "execution_count": 58,
   "metadata": {},
   "outputs": [
    {
     "data": {
      "text/plain": [
       "['GAAA', 'AAAT', 'AATA', 'ATAA', 'TAAA']"
      ]
     },
     "execution_count": 58,
     "metadata": {},
     "output_type": "execute_result"
    }
   ],
   "source": [
    "gene('GAAATAAA')\n"
   ]
  },
  {
   "cell_type": "code",
   "execution_count": null,
   "metadata": {},
   "outputs": [],
   "source": [
    "#hackerrank submission\n",
    "import math\n",
    "import os\n",
    "import random\n",
    "import re\n",
    "import sys\n",
    "\n",
    "# Complete the steadyGene function below.\n",
    "\n",
    "from collections import Counter\n",
    "\n",
    "def balanced(n, dic):\n",
    "        bal = True\n",
    "        for k, v in dic.items():\n",
    "                if v > n:\n",
    "                        bal = False\n",
    "                        break\n",
    "        return bal\n",
    "\n",
    "# Complete the steadyGene function below.\n",
    "def steadyGene(gene):\n",
    "        N = len(gene)\n",
    "        g_n = N/4\n",
    "        gene_freq = Counter(gene)\n",
    "\n",
    "        min_ans = 10**9\n",
    "        right = left = 0\n",
    "        while right < N and left < N:\n",
    "                if not balanced(g_n, gene_freq):\n",
    "                        gene_freq[gene[right]] -= 1\n",
    "                        right += 1\n",
    "                else:\n",
    "                        min_ans = min(min_ans,  right - left)\n",
    "                        gene_freq[gene[left]] += 1\n",
    "                        left += 1\n",
    "\n",
    "        return min_ans\n",
    "if __name__ == '__main__':\n",
    "    fptr = open(os.environ['OUTPUT_PATH'], 'w')\n",
    "\n",
    "    n = int(input())\n",
    "\n",
    "    gene = input()\n",
    "\n",
    "    result = steadyGene(gene)\n",
    "\n",
    "    fptr.write(str(result) + '\\n')\n",
    "\n",
    "    fptr.close()\n"
   ]
  }
 ],
 "metadata": {
  "kernelspec": {
   "display_name": "Python 3",
   "language": "python",
   "name": "python3"
  },
  "language_info": {
   "codemirror_mode": {
    "name": "ipython",
    "version": 3
   },
   "file_extension": ".py",
   "mimetype": "text/x-python",
   "name": "python",
   "nbconvert_exporter": "python",
   "pygments_lexer": "ipython3",
   "version": "3.7.4"
  }
 },
 "nbformat": 4,
 "nbformat_minor": 2
}
