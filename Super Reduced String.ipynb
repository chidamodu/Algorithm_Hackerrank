{
 "cells": [
  {
   "cell_type": "code",
   "execution_count": 25,
   "metadata": {},
   "outputs": [],
   "source": [
    "def superReducedString(s):\n",
    "    first=0\n",
    "    for i in range(len(s)-1):\n",
    "        if s[first]==s[first+1]:\n",
    "            s=s[first+1:]\n",
    "            print(s)\n",
    "        else:\n",
    "            continue\n",
    "    return s"
   ]
  },
  {
   "cell_type": "code",
   "execution_count": 26,
   "metadata": {},
   "outputs": [
    {
     "name": "stdout",
     "output_type": "stream",
     "text": [
      "aabccddd\n",
      "abccddd\n"
     ]
    },
    {
     "data": {
      "text/plain": [
       "'abccddd'"
      ]
     },
     "execution_count": 26,
     "metadata": {},
     "output_type": "execute_result"
    }
   ],
   "source": [
    "superReducedString(\"aaabccddd\")"
   ]
  },
  {
   "cell_type": "code",
   "execution_count": 41,
   "metadata": {},
   "outputs": [],
   "source": [
    "def superReducedString(s):\n",
    "    first=0\n",
    "    s_new=''\n",
    "\n",
    "    for i in range(len(s)-2):\n",
    "        if s[i]==s[i+1]:\n",
    "            print(\"yes\")\n",
    "        else:\n",
    "            s_new+=((s[:i+1]))\n",
    "    print(s_new)\n",
    "            \n",
    "#             s=s[:first]+s[first+1:]\n",
    "#     return s"
   ]
  },
  {
   "cell_type": "code",
   "execution_count": 42,
   "metadata": {},
   "outputs": [
    {
     "name": "stdout",
     "output_type": "stream",
     "text": [
      "yes\n",
      "yes\n",
      "yes\n",
      "yes\n",
      "aaaaaabaaabcc\n"
     ]
    }
   ],
   "source": [
    "superReducedString(\"aaabccddd\")"
   ]
  },
  {
   "cell_type": "code",
   "execution_count": 45,
   "metadata": {},
   "outputs": [],
   "source": [
    "def super_reduced_string(s):\n",
    "    res = []\n",
    "    for c in s:\n",
    "        print(res)\n",
    "        if res and res[-1] == c:\n",
    "            res.pop()\n",
    "        else:\n",
    "            res.append(c)\n",
    "    res = ''.join(res)\n",
    "    return res or \"Empty String\""
   ]
  },
  {
   "cell_type": "code",
   "execution_count": 46,
   "metadata": {},
   "outputs": [
    {
     "name": "stdout",
     "output_type": "stream",
     "text": [
      "[]\n",
      "['a']\n",
      "[]\n",
      "['a']\n",
      "['a', 'b']\n",
      "['a', 'b', 'c']\n",
      "['a', 'b']\n",
      "['a', 'b', 'd']\n",
      "['a', 'b']\n"
     ]
    },
    {
     "data": {
      "text/plain": [
       "'abd'"
      ]
     },
     "execution_count": 46,
     "metadata": {},
     "output_type": "execute_result"
    }
   ],
   "source": [
    "super_reduced_string(\"aaabccddd\")"
   ]
  }
 ],
 "metadata": {
  "kernelspec": {
   "display_name": "Python 3",
   "language": "python",
   "name": "python3"
  },
  "language_info": {
   "codemirror_mode": {
    "name": "ipython",
    "version": 3
   },
   "file_extension": ".py",
   "mimetype": "text/x-python",
   "name": "python",
   "nbconvert_exporter": "python",
   "pygments_lexer": "ipython3",
   "version": "3.7.4"
  }
 },
 "nbformat": 4,
 "nbformat_minor": 2
}
