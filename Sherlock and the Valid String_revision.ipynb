{
 "cells": [
  {
   "cell_type": "code",
   "execution_count": 56,
   "metadata": {},
   "outputs": [],
   "source": [
    "#the trick to the solution is: there has to be only one key with number of occurrences 1 greater than that of the\n",
    "#rest of the keys\n",
    "def isValid(s):\n",
    "    res=[]\n",
    "    c=0\n",
    "    d={}\n",
    "    for i in s:\n",
    "        d[i]=d.get(i, 0)+1\n",
    "        \n",
    "#     for k,v in d.items():\n",
    "#         if set(d.values())>1:\n",
    "    print(max(set(d.values())))\n",
    "    if len(set(d.values())) == 1:\n",
    "        return \"YES\"\n",
    "     \n",
    "    else:\n",
    "        if min(set(d.values()))==1:\n",
    "            for k,v in d.items():\n",
    "                if v==min(set(d.values())):\n",
    "                    print(v)\n",
    "                    c+=1\n",
    "                \n",
    "    if c==1:\n",
    "        return \"YES\"\n",
    "\n",
    "        \n",
    "                \n",
    "        \n",
    "        \n",
    "# elif abs(max(set(d.values()))-min(set(d.values())))>1:\n",
    "#         return \"NO\"\n",
    "    \n",
    "#     elif len(set(d.values())) > 2:\n",
    "#         return \"NO\"        \n",
    "        \n",
    "                \n",
    "   \n",
    "    \n",
    "    \n",
    "#     v=list(d.values())\n",
    "#     k=list(d.keys())\n",
    "\n",
    "#     for g,h in d.items():\n",
    "#         if h==max(v):\n",
    "#             res.append(k[max(v)])\n",
    "    \n",
    "#     print(res)\n",
    "    \n",
    "    \n",
    "    \n",
    "    \n",
    "#         return \"YES\"\n",
    "#     else:\n",
    "#         return \"NO\"\n",
    "        \n",
    "        \n",
    "#         if v==d[max(d)]:\n",
    "#             c+=1\n",
    "#             print(c)\n",
    "            \n",
    "#     if c==len(d):\n",
    "#         return \"YES\"\n",
    "#     elif c==1:\n",
    "#         return \"YES\"\n",
    "#     elif c>1:\n",
    "#         return \"NO\"\n",
    "    \n",
    "    "
   ]
  },
  {
   "cell_type": "code",
   "execution_count": 57,
   "metadata": {},
   "outputs": [
    {
     "name": "stdout",
     "output_type": "stream",
     "text": [
      "3\n"
     ]
    }
   ],
   "source": [
    "isValid(\"abcdefghhgfedecba\")"
   ]
  },
  {
   "cell_type": "code",
   "execution_count": 37,
   "metadata": {},
   "outputs": [
    {
     "data": {
      "text/plain": [
       "Counter({'a': 2,\n",
       "         'b': 2,\n",
       "         'c': 2,\n",
       "         'd': 2,\n",
       "         'e': 2,\n",
       "         'f': 1,\n",
       "         'g': 1,\n",
       "         'h': 1,\n",
       "         'i': 1})"
      ]
     },
     "execution_count": 37,
     "metadata": {},
     "output_type": "execute_result"
    }
   ],
   "source": [
    "from collections import Counter\n",
    "Counter(\"aabbccddeefghi\")"
   ]
  },
  {
   "cell_type": "code",
   "execution_count": 69,
   "metadata": {},
   "outputs": [],
   "source": [
    "def isValid(s):\n",
    "    res=[]\n",
    "    c=0\n",
    "    d={}\n",
    "    for i in s:\n",
    "        d[i]=d.get(i, 0)+1\n",
    "        \n",
    "    if len(set(d.values()))==1:\n",
    "        return \"YES\"\n",
    "    \n",
    "    elif len(set(d.values()))==2:\n",
    "        if (d.Count(min(set(d.values())))==1) or (d.Count(max(set(d.values())))==1):\n",
    "            return \"YES\"\n",
    "        else:\n",
    "            return \"NO\"\n",
    "       "
   ]
  },
  {
   "cell_type": "code",
   "execution_count": 70,
   "metadata": {},
   "outputs": [
    {
     "ename": "AttributeError",
     "evalue": "'dict' object has no attribute 'Count'",
     "output_type": "error",
     "traceback": [
      "\u001b[0;31m---------------------------------------------------------------------------\u001b[0m",
      "\u001b[0;31mAttributeError\u001b[0m                            Traceback (most recent call last)",
      "\u001b[0;32m<ipython-input-70-46273600fed9>\u001b[0m in \u001b[0;36m<module>\u001b[0;34m\u001b[0m\n\u001b[0;32m----> 1\u001b[0;31m \u001b[0misValid\u001b[0m\u001b[0;34m(\u001b[0m\u001b[0;34m\"abcdefghhgfedecba\"\u001b[0m\u001b[0;34m)\u001b[0m\u001b[0;34m\u001b[0m\u001b[0;34m\u001b[0m\u001b[0m\n\u001b[0m",
      "\u001b[0;32m<ipython-input-69-7cfe0e3235fb>\u001b[0m in \u001b[0;36misValid\u001b[0;34m(s)\u001b[0m\n\u001b[1;32m     10\u001b[0m \u001b[0;34m\u001b[0m\u001b[0m\n\u001b[1;32m     11\u001b[0m     \u001b[0;32melif\u001b[0m \u001b[0mlen\u001b[0m\u001b[0;34m(\u001b[0m\u001b[0mset\u001b[0m\u001b[0;34m(\u001b[0m\u001b[0md\u001b[0m\u001b[0;34m.\u001b[0m\u001b[0mvalues\u001b[0m\u001b[0;34m(\u001b[0m\u001b[0;34m)\u001b[0m\u001b[0;34m)\u001b[0m\u001b[0;34m)\u001b[0m\u001b[0;34m==\u001b[0m\u001b[0;36m2\u001b[0m\u001b[0;34m:\u001b[0m\u001b[0;34m\u001b[0m\u001b[0;34m\u001b[0m\u001b[0m\n\u001b[0;32m---> 12\u001b[0;31m         \u001b[0;32mif\u001b[0m \u001b[0;34m(\u001b[0m\u001b[0md\u001b[0m\u001b[0;34m.\u001b[0m\u001b[0mCount\u001b[0m\u001b[0;34m(\u001b[0m\u001b[0mmin\u001b[0m\u001b[0;34m(\u001b[0m\u001b[0mset\u001b[0m\u001b[0;34m(\u001b[0m\u001b[0md\u001b[0m\u001b[0;34m.\u001b[0m\u001b[0mvalues\u001b[0m\u001b[0;34m(\u001b[0m\u001b[0;34m)\u001b[0m\u001b[0;34m)\u001b[0m\u001b[0;34m)\u001b[0m\u001b[0;34m)\u001b[0m\u001b[0;34m==\u001b[0m\u001b[0;36m1\u001b[0m\u001b[0;34m)\u001b[0m \u001b[0;32mor\u001b[0m \u001b[0;34m(\u001b[0m\u001b[0md\u001b[0m\u001b[0;34m.\u001b[0m\u001b[0mCount\u001b[0m\u001b[0;34m(\u001b[0m\u001b[0mmax\u001b[0m\u001b[0;34m(\u001b[0m\u001b[0mset\u001b[0m\u001b[0;34m(\u001b[0m\u001b[0md\u001b[0m\u001b[0;34m.\u001b[0m\u001b[0mvalues\u001b[0m\u001b[0;34m(\u001b[0m\u001b[0;34m)\u001b[0m\u001b[0;34m)\u001b[0m\u001b[0;34m)\u001b[0m\u001b[0;34m)\u001b[0m\u001b[0;34m==\u001b[0m\u001b[0;36m1\u001b[0m\u001b[0;34m)\u001b[0m\u001b[0;34m:\u001b[0m\u001b[0;34m\u001b[0m\u001b[0;34m\u001b[0m\u001b[0m\n\u001b[0m\u001b[1;32m     13\u001b[0m             \u001b[0;32mreturn\u001b[0m \u001b[0;34m\"YES\"\u001b[0m\u001b[0;34m\u001b[0m\u001b[0;34m\u001b[0m\u001b[0m\n\u001b[1;32m     14\u001b[0m         \u001b[0;32melse\u001b[0m\u001b[0;34m:\u001b[0m\u001b[0;34m\u001b[0m\u001b[0;34m\u001b[0m\u001b[0m\n",
      "\u001b[0;31mAttributeError\u001b[0m: 'dict' object has no attribute 'Count'"
     ]
    }
   ],
   "source": [
    "isValid(\"abcdefghhgfedecba\")"
   ]
  },
  {
   "cell_type": "code",
   "execution_count": 71,
   "metadata": {},
   "outputs": [
    {
     "data": {
      "text/plain": [
       "2"
      ]
     },
     "execution_count": 71,
     "metadata": {},
     "output_type": "execute_result"
    }
   ],
   "source": [
    "5//2"
   ]
  },
  {
   "cell_type": "code",
   "execution_count": null,
   "metadata": {},
   "outputs": [],
   "source": [
    ">>> values_list = list(input_dict.values())\n",
    ">>> max(set(values_list), key=values_list.count)"
   ]
  },
  {
   "cell_type": "code",
   "execution_count": 134,
   "metadata": {},
   "outputs": [],
   "source": [
    "I am so proud of myself as only 2 out of 20 test cases failed. \n",
    "def isValid(s):\n",
    "    d={}\n",
    "    c=0\n",
    "    value=0\n",
    "    for i in s:\n",
    "        d[i]=d.get(i, 0)+1\n",
    "        \n",
    "    if len(d)==1:\n",
    "        return \"YES\"\n",
    "    else:\n",
    "        d_val=list(d.values())\n",
    "        frequent_val=max(set(d_val), key=d_val.count)\n",
    "        for k, v in d.items():\n",
    "            d[k]=abs(v-frequent_val)\n",
    "            if d[k]:\n",
    "                c+=1\n",
    "                value+=d[k]\n",
    "            \n",
    "              \n",
    "    if c<=1 and value<=1:\n",
    "\n",
    "        return \"YES\"\n",
    "    else:\n",
    "        return \"NO\"\n",
    "        \n",
    "        \n",
    "        \n",
    "\n",
    "   \n",
    "    "
   ]
  },
  {
   "cell_type": "code",
   "execution_count": 135,
   "metadata": {},
   "outputs": [
    {
     "data": {
      "text/plain": [
       "'YES'"
      ]
     },
     "execution_count": 135,
     "metadata": {},
     "output_type": "execute_result"
    }
   ],
   "source": [
    "isValid('a')"
   ]
  },
  {
   "cell_type": "code",
   "execution_count": 151,
   "metadata": {},
   "outputs": [],
   "source": [
    "from collections import Counter\n",
    "\n",
    "def isValid(s):\n",
    "    d=Counter(s)\n",
    "    val=sorted(d.values())\n",
    "    print(val)\n",
    "\n",
    "    min_val=min(val)\n",
    "    max_val=max(val)\n",
    "    max_count=val.count(max_val)\n",
    "    min_count=val.count(min_val)\n",
    "    frequency_values=Counter(val)\n",
    "    return frequency_values\n",
    "    "
   ]
  },
  {
   "cell_type": "code",
   "execution_count": 152,
   "metadata": {},
   "outputs": [
    {
     "name": "stdout",
     "output_type": "stream",
     "text": [
      "[1, 2, 3]\n"
     ]
    },
    {
     "data": {
      "text/plain": [
       "Counter({1: 1, 2: 1, 3: 1})"
      ]
     },
     "execution_count": 152,
     "metadata": {},
     "output_type": "execute_result"
    }
   ],
   "source": [
    "isValid('aaabbc')"
   ]
  },
  {
   "cell_type": "code",
   "execution_count": null,
   "metadata": {},
   "outputs": [],
   "source": [
    "Hackerrank submission:\n",
    "    \n",
    "import math\n",
    "import os\n",
    "import random\n",
    "import re\n",
    "import sys\n",
    "\n",
    "# Complete the isValid function below.\n",
    "def isValid(s):\n",
    "    d={}\n",
    "    c=0\n",
    "    value=0\n",
    "    for i in s:\n",
    "        d[i]=d.get(i, 0)+1\n",
    "        \n",
    "    if len(d)==1:\n",
    "        return \"YES\"\n",
    "    else:\n",
    "        d_val=list(d.values())\n",
    "        frequent_val=max(set(d_val), key=d_val.count)\n",
    "        for k, v in d.items():\n",
    "            d[k]=abs(v-frequent_val)\n",
    "            if d[k]:\n",
    "                c+=1\n",
    "                value+=d[k]\n",
    "    if c<=1 and value<=1:\n",
    "\n",
    "        return \"YES\"\n",
    "    else:\n",
    "        return \"NO\"\n",
    "        \n",
    "        \n",
    "    \n",
    "if __name__ == '__main__':\n",
    "    fptr = open(os.environ['OUTPUT_PATH'], 'w')\n",
    "\n",
    "    s = input()\n",
    "\n",
    "    result = isValid(s)\n",
    "\n",
    "    fptr.write(result + '\\n')\n",
    "\n",
    "    fptr.close()\n"
   ]
  },
  {
   "cell_type": "code",
   "execution_count": 156,
   "metadata": {},
   "outputs": [],
   "source": [
    "hackerrank submission\n",
    "from collections import Counter\n",
    "def isValid(s):\n",
    "    freq = Counter(s)\n",
    "    # frequencies values sorted\n",
    "    values = sorted(freq.values())\n",
    "    # max frequencie value\n",
    "    v_max = max(values)\n",
    "    # min frequencie value\n",
    "    v_min = min(values)\n",
    "    # max frequencie value repetitions\n",
    "    max_count = values.count(v_max)\n",
    "    # min frequencie value repetitions\n",
    "    min_count = values.count(v_min)\n",
    "    # frequencie of frequencie values, made some validations more easy \n",
    "    freq_values = Counter(values)\n",
    "\n",
    "    # more then 2 frequencies repeat, this case string can be valid, case: aaabbc\n",
    "    if len(freq_values) > 2:\n",
    "        return 'NO'\n",
    "    # only 1 frequencie repeat, so, is a valid string, case: aabbcc\n",
    "    elif len(freq_values) == 1:\n",
    "        return 'YES'\n",
    "    # min frequencie count is 1, so, just remove one value to turn the string valid, case: aab\n",
    "    elif min_count == 1:\n",
    "        return 'YES'\n",
    "    # max frequencie minus your repeatitions equal min value, case: bbaaa, just remove\n",
    "    # one of the same letter repeatitions to turn the strig valid\n",
    "    elif v_max - max_count == v_min:\n",
    "        return 'YES'\n",
    "    \n",
    "    else:\n",
    "        return 'NO'"
   ]
  }
 ],
 "metadata": {
  "kernelspec": {
   "display_name": "Python 3",
   "language": "python",
   "name": "python3"
  },
  "language_info": {
   "codemirror_mode": {
    "name": "ipython",
    "version": 3
   },
   "file_extension": ".py",
   "mimetype": "text/x-python",
   "name": "python",
   "nbconvert_exporter": "python",
   "pygments_lexer": "ipython3",
   "version": "3.7.4"
  }
 },
 "nbformat": 4,
 "nbformat_minor": 2
}
