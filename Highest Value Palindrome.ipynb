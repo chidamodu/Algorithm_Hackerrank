{
 "cells": [
  {
   "cell_type": "code",
   "execution_count": 141,
   "metadata": {},
   "outputs": [
    {
     "name": "stdout",
     "output_type": "stream",
     "text": [
      "6 3\n",
      "092282\n",
      "[9, 9, '2'] ['2', '8', '2']\n"
     ]
    }
   ],
   "source": [
    "# 1.58 : 3.14\n",
    "\n",
    "\n",
    "def highestValuePalindrome(s, n, k):\n",
    "\n",
    "    change_count=0\n",
    "    diff_count=0\n",
    "    \n",
    "#     if k==1 and s[0]!=s[-1]:\n",
    "#         return -1\n",
    "    \n",
    "    \n",
    "    if len(s)%2==0:\n",
    "        p=int(len(s)/2)\n",
    "        left=list(s[0:p])\n",
    "        right=list(s[p:])\n",
    "        \n",
    "        \n",
    "    else:\n",
    "        p=int(len(s)/2)\n",
    "        left=list(s[0:p])\n",
    "        right=list(s[p+1:])\n",
    "        middle=list(s[p:p+1])\n",
    "        \n",
    "\n",
    "        \n",
    "    for i in range(len(left)):\n",
    "        if left[i]!=right[::-1][i]:\n",
    "            diff_count+=1\n",
    "            \n",
    "            \n",
    "    for i in range(len(left)):     \n",
    "        \n",
    "#         if k==1 and left[0]!=right[-1]:\n",
    "#             return -1\n",
    "        \n",
    "        if left[i]!=right[::-1][i]:\n",
    "            if change_count<=k:\n",
    "                if left[i]==9:\n",
    "                    right[::-1][i]=left[i]\n",
    "                    change_count+=1\n",
    "                    diff_count-=1\n",
    "                    \n",
    "                    \n",
    "                elif right[::-1][i]==9:\n",
    "                    if change_count<=k:\n",
    "                        left[i]=right[::-1][i]\n",
    "                        change_count+=1\n",
    "                        diff_count-=1\n",
    "                        \n",
    "                    \n",
    "                elif left[i]!=9 and right[::-1][i]!=9:\n",
    "                    if change_count<=k:\n",
    "                        left[i]=9\n",
    "                        right[::-1][i]=9\n",
    "                        change_count+=2\n",
    "                        diff_count-=2\n",
    "                        \n",
    "        elif left[i]==right[::-1][i]:\n",
    "            if change_count<=k and diff_count==0:\n",
    "                left[i]=9\n",
    "                right[::-1][i]=9\n",
    "                change_count+=2\n",
    "                \n",
    "            \n",
    "                    \n",
    "                \n",
    "\n",
    "            \n",
    "#             elif int(left[i])!=int(right[i]) and (int(left[i])!=9 or int(right[i])!=9):\n",
    "#                 int(left[i])=9, int(right[i])=9\n",
    "#                 change_count+=2\n",
    "\n",
    "#  if left[i]!=right[::-1][i] and int(left[i])<9:\n",
    "#                 left[i]=9\n",
    "#                 right[i]=9\n",
    "#                 change_count+=2\n",
    "                \n",
    "       \n",
    "    print(left, right)\n",
    "\n",
    "#     return True if left == reversed(right) else False\n",
    "\n",
    "        \n",
    "        \n",
    "    \n",
    "          \n",
    "        \n",
    "        \n",
    "        \n",
    "        \n",
    "if __name__ == '__main__':\n",
    "\n",
    "    nk = input().split()\n",
    "\n",
    "    n = int(nk[0])\n",
    "\n",
    "    k = int(nk[1])\n",
    "\n",
    "    s = input()\n",
    "\n",
    "    result = highestValuePalindrome(s, n, k)"
   ]
  },
  {
   "cell_type": "code",
   "execution_count": 139,
   "metadata": {},
   "outputs": [
    {
     "data": {
      "text/plain": [
       "False"
      ]
     },
     "execution_count": 139,
     "metadata": {},
     "output_type": "execute_result"
    }
   ],
   "source": [
    "result"
   ]
  },
  {
   "cell_type": "code",
   "execution_count": 95,
   "metadata": {},
   "outputs": [],
   "source": [
    "gh=[\"hello\"]"
   ]
  },
  {
   "cell_type": "code",
   "execution_count": 93,
   "metadata": {},
   "outputs": [
    {
     "data": {
      "text/plain": [
       "[40, 20, 10, 0]"
      ]
     },
     "execution_count": 93,
     "metadata": {},
     "output_type": "execute_result"
    }
   ],
   "source": [
    "L = [0,10,20,40]\n",
    "L[::-1]"
   ]
  },
  {
   "cell_type": "code",
   "execution_count": 94,
   "metadata": {},
   "outputs": [
    {
     "data": {
      "text/plain": [
       "'olleh'"
      ]
     },
     "execution_count": 94,
     "metadata": {},
     "output_type": "execute_result"
    }
   ],
   "source": [
    "jk=\"hello\"\n",
    "jk[::-1]"
   ]
  },
  {
   "cell_type": "code",
   "execution_count": 96,
   "metadata": {},
   "outputs": [
    {
     "name": "stdout",
     "output_type": "stream",
     "text": [
      "olleh\n"
     ]
    }
   ],
   "source": [
    "for j in gh:\n",
    "    print(j[::-1])\n"
   ]
  },
  {
   "cell_type": "code",
   "execution_count": 104,
   "metadata": {},
   "outputs": [],
   "source": [
    "left=['3', '9'] \n",
    "\n",
    "right=['4', '3']"
   ]
  },
  {
   "cell_type": "code",
   "execution_count": 105,
   "metadata": {},
   "outputs": [
    {
     "name": "stdout",
     "output_type": "stream",
     "text": [
      "3\n",
      "4\n"
     ]
    }
   ],
   "source": [
    "for i in right[::-1]:\n",
    "    print(i)"
   ]
  },
  {
   "cell_type": "code",
   "execution_count": 102,
   "metadata": {},
   "outputs": [
    {
     "name": "stdout",
     "output_type": "stream",
     "text": [
      "4\n",
      "3\n"
     ]
    }
   ],
   "source": [
    "for i in range(len(left)):\n",
    "    if left[i]!=right[i][::-1]:\n",
    "        print(right[i][::-1])\n",
    "    else:\n",
    "        print(\"hello\")\n",
    "        "
   ]
  },
  {
   "cell_type": "code",
   "execution_count": null,
   "metadata": {},
   "outputs": [],
   "source": []
  }
 ],
 "metadata": {
  "kernelspec": {
   "display_name": "Python 3",
   "language": "python",
   "name": "python3"
  },
  "language_info": {
   "codemirror_mode": {
    "name": "ipython",
    "version": 3
   },
   "file_extension": ".py",
   "mimetype": "text/x-python",
   "name": "python",
   "nbconvert_exporter": "python",
   "pygments_lexer": "ipython3",
   "version": "3.7.4"
  }
 },
 "nbformat": 4,
 "nbformat_minor": 2
}
