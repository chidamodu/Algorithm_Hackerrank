{
 "cells": [
  {
   "cell_type": "code",
   "execution_count": 17,
   "metadata": {},
   "outputs": [],
   "source": [
    "def longest_string(s1, s2):\n",
    "\n",
    "    for i in range(1, len(s1)):\n",
    "        for j in (i, len(s1)-i+1):\n",
    "            print(s1[i:j])\n",
    "            "
   ]
  },
  {
   "cell_type": "code",
   "execution_count": 18,
   "metadata": {
    "scrolled": true
   },
   "outputs": [
    {
     "name": "stdout",
     "output_type": "stream",
     "text": [
      "\n",
      "A\n"
     ]
    }
   ],
   "source": [
    "longest_string('AA', 'BB')"
   ]
  },
  {
   "cell_type": "code",
   "execution_count": 37,
   "metadata": {},
   "outputs": [],
   "source": [
    "from collections import Counter\n",
    "def longest_string(s1):\n",
    "    c=0\n",
    "    for i in range(1,len(s1)+1):\n",
    "        a = [\"\".join(sorted(s1[j:j+i])) for j in range(len(s1)-i+1)]\n",
    "        b = Counter(a)\n",
    "        print(b)\n",
    "        \n",
    "\n"
   ]
  },
  {
   "cell_type": "code",
   "execution_count": 38,
   "metadata": {},
   "outputs": [
    {
     "name": "stdout",
     "output_type": "stream",
     "text": [
      "Counter({'i': 2, 'q': 2, 'f': 1, 'a': 1, 'l': 1, 'u': 1, 'h': 1, 'k': 1})\n",
      "Counter({'fi': 1, 'af': 1, 'ai': 1, 'il': 1, 'lu': 1, 'hu': 1, 'hk': 1, 'kq': 1, 'qq': 1})\n",
      "Counter({'afi': 2, 'ail': 1, 'ilu': 1, 'hlu': 1, 'hku': 1, 'hkq': 1, 'kqq': 1})\n",
      "Counter({'afii': 1, 'afil': 1, 'ailu': 1, 'hilu': 1, 'hklu': 1, 'hkqu': 1, 'hkqq': 1})\n",
      "Counter({'afiil': 1, 'afilu': 1, 'ahilu': 1, 'hiklu': 1, 'hklqu': 1, 'hkqqu': 1})\n",
      "Counter({'afiilu': 1, 'afhilu': 1, 'ahiklu': 1, 'hiklqu': 1, 'hklqqu': 1})\n",
      "Counter({'afhiilu': 1, 'afhiklu': 1, 'ahiklqu': 1, 'hiklqqu': 1})\n",
      "Counter({'afhiiklu': 1, 'afhiklqu': 1, 'ahiklqqu': 1})\n",
      "Counter({'afhiiklqu': 1, 'afhiklqqu': 1})\n",
      "Counter({'afhiiklqqu': 1})\n"
     ]
    }
   ],
   "source": [
    "longest_string('ifailuhkqq')"
   ]
  },
  {
   "cell_type": "code",
   "execution_count": 96,
   "metadata": {},
   "outputs": [],
   "source": [
    "from collections import defaultdict\n",
    "import itertools\n",
    "\n",
    "def fn_name(s1, s2):\n",
    "  \n",
    "\n",
    "    \n",
    "    d={}\n",
    "    s=[]\n",
    "\n",
    "    for i in range(len(s1)):\n",
    "#         for j in range(len(s1)-i+1):\n",
    "        for j in range(i + 1, len(s1)+ 1):\n",
    "            s.append((s1[i:j], s2[i:j]))\n",
    "            \n",
    "#     for item in s:\n",
    "#         print(item[1])\n",
    "#         if item[0]==item[1]:\n",
    "            \n",
    "    \n",
    "#     for substr in s:\n",
    "#         d[''.join(sorted(substr))].append(substr)\n",
    "#     print(anagrams)\n",
    "        \n",
    "            \n",
    "    print(s)\n",
    "        \n",
    "#         .append((s1[i:j]), s2[i:j])\n",
    "        "
   ]
  },
  {
   "cell_type": "code",
   "execution_count": 97,
   "metadata": {},
   "outputs": [
    {
     "name": "stdout",
     "output_type": "stream",
     "text": [
      "[('S', 'N'), ('SH', 'NO'), ('SHI', 'NOH'), ('SHIN', 'NOHA'), ('SHINC', 'NOHAR'), ('SHINCH', 'NOHARA'), ('SHINCHA', 'NOHARAA'), ('SHINCHAN', 'NOHARAAA'), ('H', 'O'), ('HI', 'OH'), ('HIN', 'OHA'), ('HINC', 'OHAR'), ('HINCH', 'OHARA'), ('HINCHA', 'OHARAA'), ('HINCHAN', 'OHARAAA'), ('I', 'H'), ('IN', 'HA'), ('INC', 'HAR'), ('INCH', 'HARA'), ('INCHA', 'HARAA'), ('INCHAN', 'HARAAA'), ('N', 'A'), ('NC', 'AR'), ('NCH', 'ARA'), ('NCHA', 'ARAA'), ('NCHAN', 'ARAAA'), ('C', 'R'), ('CH', 'RA'), ('CHA', 'RAA'), ('CHAN', 'RAAA'), ('H', 'A'), ('HA', 'AA'), ('HAN', 'AAA'), ('A', 'A'), ('AN', 'AA'), ('N', 'A')]\n"
     ]
    }
   ],
   "source": [
    "fn_name('SHINCHAN', 'NOHARAAA')"
   ]
  },
  {
   "cell_type": "code",
   "execution_count": null,
   "metadata": {},
   "outputs": [],
   "source": [
    "for i in range(len(s)):\n",
    "        for j in range(i + 1, len(s)+ 1):\n",
    "            substr_list.add(s[i:j])\n",
    "#     print(substr_list)\n",
    "\n",
    "    for substr in substr_list:\n",
    "        anagrams[''.join(sorted(substr))].append(substr)    "
   ]
  },
  {
   "cell_type": "code",
   "execution_count": 110,
   "metadata": {},
   "outputs": [],
   "source": [
    "Issues: the problems with this approach is that you will be still left with multiple values for a specific key. One constraint\n",
    "is to maintain order. Itemgetter does not work for dictionary keys with multiple values. You will end up wtih permutation\n",
    "of values for the keys.\n",
    "\n",
    "from collections import defaultdict\n",
    "import itertools\n",
    "\n",
    "def fn_name(s1, s2):\n",
    "    res=[]\n",
    "\n",
    "    for i in range(len(s1)):\n",
    "        if s1[i] in s2:\n",
    "            res.append(((s1.index(s1[i])), (s2.index(s1[i]))))\n",
    "            \n",
    "            \n",
    "            \n",
    "    print(res)\n",
    "            \n"
   ]
  },
  {
   "cell_type": "code",
   "execution_count": 111,
   "metadata": {},
   "outputs": [
    {
     "name": "stdout",
     "output_type": "stream",
     "text": [
      "[(1, 2), (3, 0), (1, 2), (6, 3), (3, 0)]\n"
     ]
    }
   ],
   "source": [
    "fn_name('SHINCHAN', 'NOHARAAA')"
   ]
  }
 ],
 "metadata": {
  "kernelspec": {
   "display_name": "Python 3",
   "language": "python",
   "name": "python3"
  },
  "language_info": {
   "codemirror_mode": {
    "name": "ipython",
    "version": 3
   },
   "file_extension": ".py",
   "mimetype": "text/x-python",
   "name": "python",
   "nbconvert_exporter": "python",
   "pygments_lexer": "ipython3",
   "version": "3.7.4"
  }
 },
 "nbformat": 4,
 "nbformat_minor": 2
}
