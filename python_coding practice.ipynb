{
 "cells": [
  {
   "cell_type": "code",
   "execution_count": 3,
   "metadata": {},
   "outputs": [
    {
     "name": "stdout",
     "output_type": "stream",
     "text": [
      "4\n",
      "aba\n",
      "baba\n",
      "aba\n",
      "xzxb\n",
      "3\n",
      "aba\n",
      "xzxb\n",
      "ab\n"
     ]
    },
    {
     "data": {
      "text/plain": [
       "[2, 1, 0]"
      ]
     },
     "execution_count": 3,
     "metadata": {},
     "output_type": "execute_result"
    }
   ],
   "source": [
    "Frequency of occurence of matching string pattern\n",
    "def matchingStrings(strings, queries):\n",
    "    result=[]\n",
    "    d={}\n",
    "    for i in strings:\n",
    "        d[i]=d.get(i,0)+1\n",
    "        \n",
    "    for j in queries:\n",
    "        if j in d:\n",
    "            result.append(d[j])\n",
    "        \n",
    "        else:\n",
    "            result.append(0)\n",
    "            \n",
    "    return result\n",
    "                \n",
    "    \n",
    "if __name__ == '__main__':\n",
    "    strings_count = int(input())\n",
    "    strings = []\n",
    "\n",
    "    for _ in range(strings_count):\n",
    "        strings_item = input()\n",
    "        strings.append(strings_item)\n",
    "\n",
    "    queries_count = int(input())\n",
    "\n",
    "    queries = []\n",
    "\n",
    "    for _ in range(queries_count):\n",
    "        queries_item = input()\n",
    "        queries.append(queries_item)\n",
    "\n",
    "\n",
    "matchingStrings(strings, queries)\n",
    "    \n",
    "    \n",
    "    \n",
    "    \n",
    "    \n",
    "    "
   ]
  },
  {
   "cell_type": "code",
   "execution_count": 129,
   "metadata": {},
   "outputs": [],
   "source": [
    "# Longest Substring Without Repeating Characters\n",
    "My code. It works but for some reason it gives error while executing on Leetcode. Same as the other working solution from\n",
    "Leetcode that is in the cell below\n",
    "    \n",
    "def longest_substring(s):\n",
    "    cur=[]\n",
    "#     temp=[]\n",
    "    ans=0\n",
    "    for i in s:\n",
    "        if i not in cur:\n",
    "            cur.append(i)\n",
    "            \n",
    "        else:\n",
    "#             temp.append(len(cur))\n",
    "            ans=max(len(cur), ans)\n",
    "            print(cur)\n",
    "            cur=cur[cur.index(i):]\n",
    "#             del cur[:cur.index(i)]\n",
    "            print(cur)\n",
    "\n",
    "            \n",
    "    return ans\n",
    "        \n",
    "        "
   ]
  },
  {
   "cell_type": "code",
   "execution_count": 130,
   "metadata": {},
   "outputs": [
    {
     "name": "stdout",
     "output_type": "stream",
     "text": [
      "[' ']\n",
      "[' ']\n",
      "[' ']\n",
      "[' ']\n"
     ]
    },
    {
     "data": {
      "text/plain": [
       "1"
      ]
     },
     "execution_count": 130,
     "metadata": {},
     "output_type": "execute_result"
    }
   ],
   "source": [
    "longest_substring(\"   \")"
   ]
  },
  {
   "cell_type": "code",
   "execution_count": 116,
   "metadata": {},
   "outputs": [
    {
     "data": {
      "text/plain": [
       "2"
      ]
     },
     "execution_count": 116,
     "metadata": {},
     "output_type": "execute_result"
    }
   ],
   "source": [
    "len(\"  \")"
   ]
  },
  {
   "cell_type": "code",
   "execution_count": 127,
   "metadata": {},
   "outputs": [],
   "source": [
    "This one from Leetcode - somebody else\n",
    "def lengthOfLongestSubstring(s):\n",
    "    temp = []\n",
    "    ans = 0\n",
    "    for i in s:\n",
    "        if i in temp:\n",
    "                # if i has been repeated\n",
    "                # find last time's index, and delete temp until no repeat one\n",
    "            ind = temp.index(i)\n",
    "            print(temp)\n",
    "            del temp[0:ind+1]\n",
    "#             print(temp)\n",
    "            temp.append(i)\n",
    "    \n",
    "            print(temp)\n",
    "            \n",
    "        else:\n",
    "                # if hasn't been repeated, add to array and update maximum length\n",
    "            temp.append(i)\n",
    "            ans = max(len(temp),ans)\n",
    "#             print(ans)\n",
    "\n",
    "#     return(ans)"
   ]
  },
  {
   "cell_type": "code",
   "execution_count": 128,
   "metadata": {},
   "outputs": [
    {
     "name": "stdout",
     "output_type": "stream",
     "text": [
      "[' ']\n",
      "[' ']\n",
      "[' ']\n",
      "[' ']\n"
     ]
    },
    {
     "data": {
      "text/plain": [
       "1"
      ]
     },
     "execution_count": 128,
     "metadata": {},
     "output_type": "execute_result"
    }
   ],
   "source": [
    "longest_substring(\"   \")"
   ]
  },
  {
   "cell_type": "code",
   "execution_count": 139,
   "metadata": {},
   "outputs": [],
   "source": [
    "def searchInsert(nums, target):\n",
    "    length=int(len(nums)/2)\n",
    "    left=nums[:length]\n",
    "    right=nums[length:]\n",
    "\n",
    "    \n",
    "    if target<right[0]:\n",
    "        for i in range(len(left)):\n",
    "            if target==left[i]:\n",
    "                return nums.index(left[i])\n",
    "            \n",
    "    elif target>right[0]:\n",
    "        for j in range(len(right)):\n",
    "            if target==right[i]:\n",
    "                return nums.index(right[i])\n",
    "                \n",
    "            \n",
    "            \n",
    "    else:\n",
    "        return nums.index(right[0])\n",
    "    \n",
    "\n",
    "        \n",
    "            \n",
    "        \n"
   ]
  },
  {
   "cell_type": "code",
   "execution_count": 140,
   "metadata": {},
   "outputs": [
    {
     "ename": "UnboundLocalError",
     "evalue": "local variable 'i' referenced before assignment",
     "output_type": "error",
     "traceback": [
      "\u001b[0;31m---------------------------------------------------------------------------\u001b[0m",
      "\u001b[0;31mUnboundLocalError\u001b[0m                         Traceback (most recent call last)",
      "\u001b[0;32m<ipython-input-140-9f38f7d08e0a>\u001b[0m in \u001b[0;36m<module>\u001b[0;34m\u001b[0m\n\u001b[0;32m----> 1\u001b[0;31m \u001b[0msearchInsert\u001b[0m\u001b[0;34m(\u001b[0m\u001b[0;34m[\u001b[0m\u001b[0;36m1\u001b[0m\u001b[0;34m,\u001b[0m\u001b[0;36m3\u001b[0m\u001b[0;34m,\u001b[0m\u001b[0;36m5\u001b[0m\u001b[0;34m,\u001b[0m\u001b[0;36m6\u001b[0m\u001b[0;34m]\u001b[0m\u001b[0;34m,\u001b[0m \u001b[0;36m6\u001b[0m\u001b[0;34m)\u001b[0m\u001b[0;34m\u001b[0m\u001b[0;34m\u001b[0m\u001b[0m\n\u001b[0m",
      "\u001b[0;32m<ipython-input-139-2c5b4d883eb0>\u001b[0m in \u001b[0;36msearchInsert\u001b[0;34m(nums, target)\u001b[0m\n\u001b[1;32m     11\u001b[0m     \u001b[0;32melif\u001b[0m \u001b[0mtarget\u001b[0m\u001b[0;34m>\u001b[0m\u001b[0mright\u001b[0m\u001b[0;34m[\u001b[0m\u001b[0;36m0\u001b[0m\u001b[0;34m]\u001b[0m\u001b[0;34m:\u001b[0m\u001b[0;34m\u001b[0m\u001b[0;34m\u001b[0m\u001b[0m\n\u001b[1;32m     12\u001b[0m         \u001b[0;32mfor\u001b[0m \u001b[0mj\u001b[0m \u001b[0;32min\u001b[0m \u001b[0mrange\u001b[0m\u001b[0;34m(\u001b[0m\u001b[0mlen\u001b[0m\u001b[0;34m(\u001b[0m\u001b[0mright\u001b[0m\u001b[0;34m)\u001b[0m\u001b[0;34m)\u001b[0m\u001b[0;34m:\u001b[0m\u001b[0;34m\u001b[0m\u001b[0;34m\u001b[0m\u001b[0m\n\u001b[0;32m---> 13\u001b[0;31m             \u001b[0;32mif\u001b[0m \u001b[0mtarget\u001b[0m\u001b[0;34m==\u001b[0m\u001b[0mright\u001b[0m\u001b[0;34m[\u001b[0m\u001b[0mi\u001b[0m\u001b[0;34m]\u001b[0m\u001b[0;34m:\u001b[0m\u001b[0;34m\u001b[0m\u001b[0;34m\u001b[0m\u001b[0m\n\u001b[0m\u001b[1;32m     14\u001b[0m                 \u001b[0;32mreturn\u001b[0m \u001b[0mnums\u001b[0m\u001b[0;34m.\u001b[0m\u001b[0mindex\u001b[0m\u001b[0;34m(\u001b[0m\u001b[0mright\u001b[0m\u001b[0;34m[\u001b[0m\u001b[0mi\u001b[0m\u001b[0;34m]\u001b[0m\u001b[0;34m)\u001b[0m\u001b[0;34m\u001b[0m\u001b[0;34m\u001b[0m\u001b[0m\n\u001b[1;32m     15\u001b[0m \u001b[0;34m\u001b[0m\u001b[0m\n",
      "\u001b[0;31mUnboundLocalError\u001b[0m: local variable 'i' referenced before assignment"
     ]
    }
   ],
   "source": [
    "searchInsert([1,3,5,6], 6)"
   ]
  },
  {
   "cell_type": "code",
   "execution_count": 150,
   "metadata": {},
   "outputs": [],
   "source": [
    "def searchInsert(nums, target):\n",
    "    length=int(len(nums)/2)\n",
    "    left=0\n",
    "    right=len(nums)-1\n",
    "    \n",
    "    \n",
    "    while left<right:\n",
    "        if nums[left]<target:\n",
    "            left+=1\n",
    "        \n",
    "        elif nums[left]>target:\n",
    "            ind=nums.index(nums[left])-1\n",
    "                \n",
    "        else:\n",
    "            ind=nums.index(nums[left])\n",
    "    \n",
    "    if nums[right]>target:\n",
    "        ind=nums.index(nums[right])+1\n",
    "        \n",
    "    if nums[right]>target:\n",
    "        ind=nums.index(nums[right])+1\n",
    "    \n",
    "        \n",
    "        \n",
    "\n",
    "        \n",
    "        \n",
    "    return ind   \n",
    "        \n",
    "        \n",
    "    \n",
    "    \n",
    "    \n",
    "\n"
   ]
  },
  {
   "cell_type": "code",
   "execution_count": 151,
   "metadata": {},
   "outputs": [
    {
     "ename": "KeyboardInterrupt",
     "evalue": "",
     "output_type": "error",
     "traceback": [
      "\u001b[0;31m---------------------------------------------------------------------------\u001b[0m",
      "\u001b[0;31mKeyboardInterrupt\u001b[0m                         Traceback (most recent call last)",
      "\u001b[0;32m<ipython-input-151-ee4d161896be>\u001b[0m in \u001b[0;36m<module>\u001b[0;34m\u001b[0m\n\u001b[0;32m----> 1\u001b[0;31m \u001b[0msearchInsert\u001b[0m\u001b[0;34m(\u001b[0m\u001b[0;34m[\u001b[0m\u001b[0;36m1\u001b[0m\u001b[0;34m,\u001b[0m\u001b[0;36m3\u001b[0m\u001b[0;34m,\u001b[0m\u001b[0;36m5\u001b[0m\u001b[0;34m,\u001b[0m\u001b[0;36m6\u001b[0m\u001b[0;34m]\u001b[0m\u001b[0;34m,\u001b[0m \u001b[0;36m5\u001b[0m\u001b[0;34m)\u001b[0m\u001b[0;34m\u001b[0m\u001b[0;34m\u001b[0m\u001b[0m\n\u001b[0m",
      "\u001b[0;32m<ipython-input-150-98958869bceb>\u001b[0m in \u001b[0;36msearchInsert\u001b[0;34m(nums, target)\u001b[0m\n\u001b[1;32m     10\u001b[0m             \u001b[0mleft\u001b[0m\u001b[0;34m+=\u001b[0m\u001b[0;36m1\u001b[0m\u001b[0;34m\u001b[0m\u001b[0;34m\u001b[0m\u001b[0m\n\u001b[1;32m     11\u001b[0m         \u001b[0;32melse\u001b[0m\u001b[0;34m:\u001b[0m\u001b[0;34m\u001b[0m\u001b[0;34m\u001b[0m\u001b[0m\n\u001b[0;32m---> 12\u001b[0;31m             \u001b[0mind\u001b[0m\u001b[0;34m=\u001b[0m\u001b[0mnums\u001b[0m\u001b[0;34m.\u001b[0m\u001b[0mindex\u001b[0m\u001b[0;34m(\u001b[0m\u001b[0mnums\u001b[0m\u001b[0;34m[\u001b[0m\u001b[0mleft\u001b[0m\u001b[0;34m]\u001b[0m\u001b[0;34m)\u001b[0m\u001b[0;34m-\u001b[0m\u001b[0;36m1\u001b[0m\u001b[0;34m\u001b[0m\u001b[0;34m\u001b[0m\u001b[0m\n\u001b[0m\u001b[1;32m     13\u001b[0m \u001b[0;34m\u001b[0m\u001b[0m\n\u001b[1;32m     14\u001b[0m     \u001b[0;32mif\u001b[0m \u001b[0mnums\u001b[0m\u001b[0;34m[\u001b[0m\u001b[0mright\u001b[0m\u001b[0;34m]\u001b[0m\u001b[0;34m<\u001b[0m\u001b[0mtarget\u001b[0m\u001b[0;34m:\u001b[0m\u001b[0;34m\u001b[0m\u001b[0;34m\u001b[0m\u001b[0m\n",
      "\u001b[0;31mKeyboardInterrupt\u001b[0m: "
     ]
    }
   ],
   "source": [
    "searchInsert([1,3,5,6], 5)"
   ]
  },
  {
   "cell_type": "code",
   "execution_count": 147,
   "metadata": {},
   "outputs": [
    {
     "data": {
      "text/plain": [
       "4"
      ]
     },
     "execution_count": 147,
     "metadata": {},
     "output_type": "execute_result"
    }
   ],
   "source": [
    "searchInsert([1,3,5,6], 2)"
   ]
  },
  {
   "cell_type": "code",
   "execution_count": null,
   "metadata": {},
   "outputs": [],
   "source": [
    "searchInsert([1,3,5,6], 5)"
   ]
  },
  {
   "cell_type": "code",
   "execution_count": 178,
   "metadata": {},
   "outputs": [],
   "source": [
    "def searchInsert(nums, target):\n",
    "    ind=[]\n",
    "\n",
    "    if target == nums[0]:\n",
    "        ind.append(0)\n",
    "        \n",
    "    \n",
    "    elif target==nums[-1]:\n",
    "        ind.append(len(nums))\n",
    "     \n",
    "    \n",
    "    else:\n",
    "        for i in range(0, len(nums)-1):\n",
    "            if target < nums[i]:\n",
    "                ind.append(i-1)\n",
    "            \n",
    "            elif (target > nums[i]) and (target < nums[i+1]):\n",
    "                ind.append(i)\n",
    "            \n",
    "            else:\n",
    "                ind.append(i)\n",
    "            \n",
    "            \n",
    "            \n",
    "       \n",
    "    return ind\n",
    "                \n",
    "        \n",
    "        \n",
    "    "
   ]
  },
  {
   "cell_type": "code",
   "execution_count": 179,
   "metadata": {},
   "outputs": [
    {
     "data": {
      "text/plain": [
       "[-1, 0, 1]"
      ]
     },
     "execution_count": 179,
     "metadata": {},
     "output_type": "execute_result"
    }
   ],
   "source": [
    "searchInsert([1,3,5,6], 0)"
   ]
  },
  {
   "cell_type": "code",
   "execution_count": 221,
   "metadata": {},
   "outputs": [],
   "source": [
    "def searchInsert1(nums, target):\n",
    "    ind=[]\n",
    "    for i in range(1, len(nums)+1):\n",
    "        \n",
    "        \n",
    "        \n",
    "        if target==nums[i]:\n",
    "            ind.append(nums.index(nums[i]))\n",
    "            \n",
    "        elif target < min(nums[:i]):\n",
    "            ind.append(nums.index(min(nums[:i]))-1)\n",
    "            \n",
    "        elif target > max(nums[:i]):\n",
    "            continue\n",
    "#             ind.append(nums.index(max(nums[:i]))+1)\n",
    "        \n",
    "    \n",
    "    return ind\n",
    "            \n",
    "\n"
   ]
  },
  {
   "cell_type": "code",
   "execution_count": 222,
   "metadata": {},
   "outputs": [
    {
     "ename": "IndexError",
     "evalue": "list index out of range",
     "output_type": "error",
     "traceback": [
      "\u001b[0;31m---------------------------------------------------------------------------\u001b[0m",
      "\u001b[0;31mIndexError\u001b[0m                                Traceback (most recent call last)",
      "\u001b[0;32m<ipython-input-222-829539267513>\u001b[0m in \u001b[0;36m<module>\u001b[0;34m\u001b[0m\n\u001b[0;32m----> 1\u001b[0;31m \u001b[0msearchInsert1\u001b[0m\u001b[0;34m(\u001b[0m\u001b[0;34m[\u001b[0m\u001b[0;36m1\u001b[0m\u001b[0;34m,\u001b[0m\u001b[0;36m3\u001b[0m\u001b[0;34m,\u001b[0m\u001b[0;36m5\u001b[0m\u001b[0;34m,\u001b[0m\u001b[0;36m6\u001b[0m\u001b[0;34m]\u001b[0m\u001b[0;34m,\u001b[0m \u001b[0;36m5\u001b[0m\u001b[0;34m)\u001b[0m\u001b[0;34m\u001b[0m\u001b[0;34m\u001b[0m\u001b[0m\n\u001b[0m",
      "\u001b[0;32m<ipython-input-221-b4ca133db0d8>\u001b[0m in \u001b[0;36msearchInsert1\u001b[0;34m(nums, target)\u001b[0m\n\u001b[1;32m      5\u001b[0m \u001b[0;34m\u001b[0m\u001b[0m\n\u001b[1;32m      6\u001b[0m \u001b[0;34m\u001b[0m\u001b[0m\n\u001b[0;32m----> 7\u001b[0;31m         \u001b[0;32mif\u001b[0m \u001b[0mtarget\u001b[0m\u001b[0;34m==\u001b[0m\u001b[0mnums\u001b[0m\u001b[0;34m[\u001b[0m\u001b[0mi\u001b[0m\u001b[0;34m]\u001b[0m\u001b[0;34m:\u001b[0m\u001b[0;34m\u001b[0m\u001b[0;34m\u001b[0m\u001b[0m\n\u001b[0m\u001b[1;32m      8\u001b[0m             \u001b[0mind\u001b[0m\u001b[0;34m.\u001b[0m\u001b[0mappend\u001b[0m\u001b[0;34m(\u001b[0m\u001b[0mnums\u001b[0m\u001b[0;34m.\u001b[0m\u001b[0mindex\u001b[0m\u001b[0;34m(\u001b[0m\u001b[0mnums\u001b[0m\u001b[0;34m[\u001b[0m\u001b[0mi\u001b[0m\u001b[0;34m]\u001b[0m\u001b[0;34m)\u001b[0m\u001b[0;34m)\u001b[0m\u001b[0;34m\u001b[0m\u001b[0;34m\u001b[0m\u001b[0m\n\u001b[1;32m      9\u001b[0m \u001b[0;34m\u001b[0m\u001b[0m\n",
      "\u001b[0;31mIndexError\u001b[0m: list index out of range"
     ]
    }
   ],
   "source": [
    "searchInsert1([1,3,5,6], 5)"
   ]
  },
  {
   "cell_type": "code",
   "execution_count": 200,
   "metadata": {},
   "outputs": [
    {
     "name": "stdout",
     "output_type": "stream",
     "text": [
      "[1]\n",
      "[1, 3]\n",
      "[1, 3, 5]\n",
      "[1, 3, 5, 6]\n"
     ]
    }
   ],
   "source": [
    "nums=[1,3,5,6]\n",
    "for i in range(1, len(nums)+1):\n",
    "    print(nums[:i])\n",
    "    "
   ]
  },
  {
   "cell_type": "code",
   "execution_count": 227,
   "metadata": {},
   "outputs": [],
   "source": [
    "def searchInsert2(nums, target):\n",
    "    if target in nums:\n",
    "        return nums.index(target)\n",
    "    nums.append(target)\n",
    "    nums=sorted(nums)\n",
    "    return nums.index(target)"
   ]
  },
  {
   "cell_type": "code",
   "execution_count": 228,
   "metadata": {},
   "outputs": [
    {
     "data": {
      "text/plain": [
       "1"
      ]
     },
     "execution_count": 228,
     "metadata": {},
     "output_type": "execute_result"
    }
   ],
   "source": [
    "searchInsert2([1,3,5,6], 2)"
   ]
  },
  {
   "cell_type": "code",
   "execution_count": 284,
   "metadata": {},
   "outputs": [],
   "source": [
    "#Good attempt but time to move on. This code would not work if the array has a single element\n",
    "def searchInsert3(nums, target):\n",
    "    length=len(nums)//2\n",
    "    if len(nums)==1:\n",
    "        return 0\n",
    "    else:\n",
    "        left=nums[:length]\n",
    "        start_index=left.index(left[-1])+1\n",
    "        right=nums[start_index:]\n",
    "    \n",
    "    \n",
    "    \n",
    "    if target < left[0]:\n",
    "        return 0\n",
    "    \n",
    "    elif target > right[-1]:\n",
    "        return len(nums)\n",
    "    \n",
    "    \n",
    "    elif target<right[0]:\n",
    "        for i in range(len(left)):\n",
    "            if target<=left[i]:\n",
    "                return i\n",
    "           \n",
    "    elif target>right[0]:\n",
    "        for i in range(start_index, len(right)):\n",
    "            if target<=right[i]:\n",
    "                return i\n",
    "        \n",
    "    else:\n",
    "        return start_index\n",
    "    \n",
    "#     right.index(right[0])\n",
    "    \n",
    "    \n",
    "    \n",
    "    \n",
    "    \n",
    "    \n",
    "    \n",
    "\n"
   ]
  },
  {
   "cell_type": "code",
   "execution_count": 285,
   "metadata": {},
   "outputs": [
    {
     "data": {
      "text/plain": [
       "0"
      ]
     },
     "execution_count": 285,
     "metadata": {},
     "output_type": "execute_result"
    }
   ],
   "source": [
    "searchInsert3([1], 0)"
   ]
  },
  {
   "cell_type": "code",
   "execution_count": null,
   "metadata": {},
   "outputs": [],
   "source": [
    "But the one below this one is way better. This one here feels like cheating\n",
    "# class Solution:\n",
    "#     def searchInsert(self, nums: List[int], target: int) -> int:\n",
    "#         if target in nums:\n",
    "#             return nums.index(target)\n",
    "#         nums.append(target)\n",
    "#         nums=sorted(nums)\n",
    "#         return nums.index(target)\n",
    "    \n",
    "# Runtime: 76 ms, faster than 5.73% of Python3 online submissions for Search Insert Position.\n",
    "# Memory Usage: 14.2 MB, less than 5.97% of Python3 online submissions for Search Insert Position.\n",
    "\n",
    "\n",
    "\n",
    "Leetcode Submission\n",
    "class Solution:\n",
    "    def searchInsert(self, nums: List[int], target: int) -> int:\n",
    "        lo, hi = 0, len(nums)-1\n",
    "        if target < nums[0]:\n",
    "            return 0\n",
    "        elif target > nums[len(nums)-1]:\n",
    "            return len(nums)\n",
    "        \n",
    "        while lo < hi:\n",
    "            med = (lo+hi)//2+1\n",
    "            first = nums[lo:med]\n",
    "            last = nums[med:hi+1]\n",
    "\n",
    "            if target<=first[-1]:\n",
    "                hi = med-1\n",
    "            else:\n",
    "                lo = med\n",
    "\n",
    "        return lo\n",
    "\n",
    "Runtime: 56 ms, faster than 87.10% of Python3 online submissions for Search Insert Position.\n",
    "    \n",
    "    "
   ]
  }
 ],
 "metadata": {
  "kernelspec": {
   "display_name": "Python 3",
   "language": "python",
   "name": "python3"
  },
  "language_info": {
   "codemirror_mode": {
    "name": "ipython",
    "version": 3
   },
   "file_extension": ".py",
   "mimetype": "text/x-python",
   "name": "python",
   "nbconvert_exporter": "python",
   "pygments_lexer": "ipython3",
   "version": "3.7.4"
  }
 },
 "nbformat": 4,
 "nbformat_minor": 2
}
