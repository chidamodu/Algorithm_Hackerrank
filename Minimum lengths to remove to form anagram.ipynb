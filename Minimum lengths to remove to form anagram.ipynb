{
 "cells": [
  {
   "cell_type": "code",
   "execution_count": 58,
   "metadata": {},
   "outputs": [],
   "source": [
    "tried converting the strings into lists and find the common ones in both the strings\n",
    "def makingAnagrams(s1, s2):\n",
    "    res_s1=sorted(list(s1))\n",
    "    \n",
    "    res_s2=sorted(list(s2))\n",
    "    \n",
    "    same=0\n",
    "    \n",
    "    if res_s1==res_s2:\n",
    "        return 0\n",
    "    else:\n",
    "        for i in range(len(res_s1)):\n",
    "            if res_s1[i] in res_s2:\n",
    "                same+=1\n",
    "    \n",
    "    return (len(res_s1)-same)+(len(res_s2)-same)\n",
    "            \n",
    "    "
   ]
  },
  {
   "cell_type": "code",
   "execution_count": 59,
   "metadata": {},
   "outputs": [
    {
     "data": {
      "text/plain": [
       "13"
      ]
     },
     "execution_count": 59,
     "metadata": {},
     "output_type": "execute_result"
    }
   ],
   "source": [
    "makingAnagrams('absdjkvuahdakejfnfauhdsaavasdlkj', 'djfladfhiawasdkjvalskufhafablsdkashlahdfa')"
   ]
  },
  {
   "cell_type": "code",
   "execution_count": 28,
   "metadata": {},
   "outputs": [
    {
     "data": {
      "text/plain": [
       "['f', 'g', 'o']"
      ]
     },
     "execution_count": 28,
     "metadata": {},
     "output_type": "execute_result"
    }
   ],
   "source": [
    "s1='fog'\n",
    "sorted(list(s1))"
   ]
  },
  {
   "cell_type": "code",
   "execution_count": null,
   "metadata": {},
   "outputs": [],
   "source": [
    "Tried by using dictionaries\n",
    "def makingAnagrams(s1, s2):\n",
    "    \n",
    "    d1={}\n",
    "    \n",
    "    d2={}\n",
    "    \n",
    "    not_same=0\n",
    "    \n",
    "    for i in range(len(s1)):\n",
    "        d1[s1[i]]=d1.get(s1[i], 0)+1\n",
    "        \n",
    "    for i in range(len(s2)):\n",
    "        d2[s2[i]]=d2.get(s2[i], 0)+1\n",
    "        \n",
    "    \n",
    "    for k, v in d1.items():\n",
    "        if k in d2:\n",
    "            not_same+=abs(d1[k]-d2[k])\n",
    "            \n",
    "        else:\n",
    "            not_same+=abs(d1[k]-d2[k])\n",
    "            \n",
    "        \n",
    "        \n",
    "    \n",
    "#     if res_s1==res_s2:\n",
    "#         return 0\n",
    "#     else:\n",
    "#         for i in range(len(res_s1)):\n",
    "#             if res_s1[i] in res_s2:\n",
    "#                 same+=1\n",
    "    \n",
    "    return (len(res_s1)-same)+(len(res_s2)-same)\n",
    "            \n",
    "    "
   ]
  },
  {
   "cell_type": "code",
   "execution_count": 70,
   "metadata": {},
   "outputs": [],
   "source": [
    "Groupby does not work because it groups the common letters in both the strings so it is not possible to know how many 'a' say\n",
    "in s1 and how many ion s2\n",
    "\n",
    "from itertools import groupby\n",
    "def makingAnagrams(s1, s2):\n",
    "  \n",
    "    return [len(list(group)) for key,group in groupby(sorted(s1+s2, key=sorted),sorted)]\n",
    "    \n",
    "\n",
    "    "
   ]
  },
  {
   "cell_type": "code",
   "execution_count": 71,
   "metadata": {},
   "outputs": [
    {
     "data": {
      "text/plain": [
       "[16, 2, 9, 1, 7, 6, 1, 5, 6, 5, 1, 7, 3, 3, 1]"
      ]
     },
     "execution_count": 71,
     "metadata": {},
     "output_type": "execute_result"
    }
   ],
   "source": [
    "makingAnagrams('absdjkvuahdakejfnfauhdsaavasdlkj', 'djfladfhiawasdkjvalskufhafablsdkashlahdfa')"
   ]
  },
  {
   "cell_type": "code",
   "execution_count": null,
   "metadata": {},
   "outputs": [],
   "source": [
    "from collections import Counter\n",
    "counts = Counter(input())\n",
    "counts.subtract(input())\n",
    "print(sum(abs(x) for x in counts.values()))"
   ]
  },
  {
   "cell_type": "code",
   "execution_count": 73,
   "metadata": {},
   "outputs": [
    {
     "name": "stdout",
     "output_type": "stream",
     "text": [
      "Counter({'a': 7, 'd': 4, 's': 3, 'j': 3, 'k': 3, 'v': 2, 'u': 2, 'h': 2, 'f': 2, 'b': 1, 'e': 1, 'n': 1, 'l': 1})\n"
     ]
    }
   ],
   "source": [
    "from collections import Counter\n",
    "print(Counter('absdjkvuahdakejfnfauhdsaavasdlkj'))"
   ]
  },
  {
   "cell_type": "code",
   "execution_count": 74,
   "metadata": {},
   "outputs": [],
   "source": [
    "This worked!\n",
    "from collections import Counter\n",
    "def makingAnagrams(s1, s2):\n",
    "    counts = Counter(s1)\n",
    "    counts.subtract(s2)\n",
    "    return sum(abs(x) for x in counts.values())\n",
    "    \n",
    "    \n",
    "    \n",
    "    "
   ]
  },
  {
   "cell_type": "code",
   "execution_count": 75,
   "metadata": {},
   "outputs": [
    {
     "data": {
      "text/plain": [
       "19"
      ]
     },
     "execution_count": 75,
     "metadata": {},
     "output_type": "execute_result"
    }
   ],
   "source": [
    "makingAnagrams('absdjkvuahdakejfnfauhdsaavasdlkj', 'djfladfhiawasdkjvalskufhafablsdkashlahdfa')"
   ]
  },
  {
   "cell_type": "code",
   "execution_count": null,
   "metadata": {},
   "outputs": [],
   "source": [
    "Hackerrank submission\n",
    "\n",
    "import math\n",
    "import os\n",
    "import random\n",
    "import re\n",
    "import sys\n",
    "\n",
    "# Complete the makingAnagrams function below.\n",
    "from collections import Counter\n",
    "def makingAnagrams(s1, s2):\n",
    "    counts = Counter(s1)\n",
    "    counts.subtract(s2)\n",
    "    return sum(abs(x) for x in counts.values())\n",
    "    \n",
    "    \n",
    "            \n",
    "\n",
    "if __name__ == '__main__':\n",
    "    fptr = open(os.environ['OUTPUT_PATH'], 'w')\n",
    "\n",
    "    s1 = input()\n",
    "\n",
    "    s2 = input()\n",
    "\n",
    "    result = makingAnagrams(s1, s2)\n",
    "\n",
    "    fptr.write(str(result) + '\\n')\n",
    "\n",
    "    fptr.close()\n"
   ]
  }
 ],
 "metadata": {
  "kernelspec": {
   "display_name": "Python 3",
   "language": "python",
   "name": "python3"
  },
  "language_info": {
   "codemirror_mode": {
    "name": "ipython",
    "version": 3
   },
   "file_extension": ".py",
   "mimetype": "text/x-python",
   "name": "python",
   "nbconvert_exporter": "python",
   "pygments_lexer": "ipython3",
   "version": "3.7.4"
  }
 },
 "nbformat": 4,
 "nbformat_minor": 2
}
