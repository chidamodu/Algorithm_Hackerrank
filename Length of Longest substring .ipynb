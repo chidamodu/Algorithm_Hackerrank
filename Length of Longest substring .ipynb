{
 "cells": [
  {
   "cell_type": "code",
   "execution_count": 14,
   "metadata": {},
   "outputs": [],
   "source": [
    "Another version of the problem but I like the one in the cell below as it is easy to follow\n",
    "def commonChild(s1, s2):\n",
    "    l1 = len (s1)\n",
    "    l2 = len (s2)  \n",
    "    prev = [0] * (l2 + 1)   \n",
    "    for i in range (l1):\n",
    "        current = [0]\n",
    "        for j in range (l2):  \n",
    "            if s1 [i] == s2 [j]:\n",
    "                current.append (prev [j] + 1)   # previous + 1\n",
    "            elif prev [j + 1] > current [j]: \n",
    "                current.append (prev [j + 1])\n",
    "            else: current.append (current [j])   # comment line if using letters\n",
    "        prev = current   # make current row the next previous row\n",
    "    return prev [j + 1]"
   ]
  },
  {
   "cell_type": "code",
   "execution_count": 15,
   "metadata": {},
   "outputs": [
    {
     "data": {
      "text/plain": [
       "2"
      ]
     },
     "execution_count": 15,
     "metadata": {},
     "output_type": "execute_result"
    }
   ],
   "source": [
    "commonChild('ABCDEF', 'FBDAMN')"
   ]
  },
  {
   "cell_type": "code",
   "execution_count": 28,
   "metadata": {},
   "outputs": [],
   "source": [
    "# This solution is easy to follow\n",
    "def commonChild1(s1, s2):\n",
    "    m, n = len(s1), len(s2)\n",
    "    prev, cur = [0]*(n+1), [0]*(n+1)\n",
    "    for i in range(1, m+1):\n",
    "        for j in range(1, n+1):\n",
    "            if s1[i-1] == s2[j-1]:\n",
    "                cur[j] = 1 + prev[j-1]\n",
    "            else:\n",
    "                if cur[j-1] > prev[j]:\n",
    "                    cur[j] = cur[j-1]\n",
    "                else:\n",
    "                    cur[j] = prev[j]\n",
    "        cur, prev = prev, cur #why do we have to swap here?\n",
    "    return cur[n], prev[n]"
   ]
  },
  {
   "cell_type": "code",
   "execution_count": 29,
   "metadata": {},
   "outputs": [
    {
     "data": {
      "text/plain": [
       "(2, 2)"
      ]
     },
     "execution_count": 29,
     "metadata": {},
     "output_type": "execute_result"
    }
   ],
   "source": [
    "commonChild1('ABCDEF', 'FBDAMN')"
   ]
  },
  {
   "cell_type": "code",
   "execution_count": null,
   "metadata": {},
   "outputs": [],
   "source": [
    "cur[n], prev[n] :  1,0\n",
    "    \n",
    "cur[n], prev[n] :  2,2"
   ]
  }
 ],
 "metadata": {
  "kernelspec": {
   "display_name": "Python 3",
   "language": "python",
   "name": "python3"
  },
  "language_info": {
   "codemirror_mode": {
    "name": "ipython",
    "version": 3
   },
   "file_extension": ".py",
   "mimetype": "text/x-python",
   "name": "python",
   "nbconvert_exporter": "python",
   "pygments_lexer": "ipython3",
   "version": "3.7.4"
  }
 },
 "nbformat": 4,
 "nbformat_minor": 2
}
